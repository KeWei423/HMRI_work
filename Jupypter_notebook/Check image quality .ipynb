{
 "cells": [
  {
   "cell_type": "code",
   "execution_count": 7,
   "metadata": {},
   "outputs": [],
   "source": [
    "import numpy as np\n",
    "import nibabel as nib\n",
    "import os"
   ]
  },
  {
   "cell_type": "code",
   "execution_count": 11,
   "metadata": {},
   "outputs": [
    {
     "name": "stdout",
     "output_type": "stream",
     "text": [
      "WH1.5T_1276_20160504_vent_mask.nii.gz (256, 256, 256)\n",
      "BR033_15T_20180628_vent_mask.nii.gz (256, 256, 256)\n",
      "LASH015_20180517_vent_mask.nii.gz (256, 256, 256)\n",
      "LASH013_20171005_vent_mask.nii.gz (256, 256, 256)\n",
      "BR013_15T_20171108_vent_mask.nii.gz (256, 256, 256)\n",
      "BR008_15T_20171019_vent_mask.nii.gz (256, 256, 256)\n",
      "WH1.5T_1246_20110406_vent_mask.nii.gz (256, 256, 256)\n",
      "BR011_15T_20171101_vent_mask.nii.gz (256, 256, 256)\n",
      "LASH017_20180426_vent_mask.nii.gz (256, 256, 256)\n",
      "EX33225_20180924_vent_mask.nii.gz (256, 256, 256)\n",
      "LASH001_20160111_vent_mask.nii.gz (256, 256, 256)\n",
      "LASH002_20160321_vent_mask.nii.gz (256, 256, 256)\n",
      "LASH004_20160628_vent_mask.nii.gz (256, 256, 256)\n",
      "WH1.5T_1020_20141124_vent_mask.nii.gz (256, 256, 256)\n",
      "LASH018_20180530_vent_mask.nii.gz (256, 256, 256)\n",
      "LASH007_20170504_vent_mask.nii.gz (256, 256, 256)\n",
      "WH1.5T_1274_20110825_vent_mask.nii.gz (256, 256, 256)\n",
      "WH1.5T_1319_20111013_vent_mask.nii.gz (256, 256, 256)\n",
      "WH1.5T_1431_20160119_vent_mask.nii.gz (256, 256, 256)\n",
      "BR021_15T_20180124_vent_mask.nii.gz (256, 256, 256)\n",
      "WH1.5T_1409_20150115_vent_mask.nii.gz (256, 256, 256)\n",
      "WH1.5T_1420_20150818_vent_mask.nii.gz (256, 256, 256)\n",
      "EX33052_20170824_vent_mask.nii.gz (256, 256, 256)\n",
      "LASH008_20170822_vent_mask.nii.gz (256, 256, 256)\n",
      "LASH014_20180301_vent_mask.nii.gz (256, 256, 256)\n",
      "LASH003_20160413_vent_mask.nii.gz (256, 256, 256)\n",
      "WH1.5T_1307_20110922_vent_mask.nii.gz (256, 256, 256)\n",
      "WH1.5T_1406_20150107_vent_mask.nii.gz (256, 256, 256)\n",
      "WH1.5T_1300_20111004_vent_mask.nii.gz (256, 256, 256)\n",
      "WH1.5T_1250_20110704_vent_mask.nii.gz (256, 256, 256)\n",
      "WH1.5T_1128_20111005_vent_mask.nii.gz (256, 256, 256)\n",
      "WH1.5T_1370_20120307_vent_mask.nii.gz (256, 256, 256)\n",
      "EX33032_20170814_vent_mask.nii.gz (256, 256, 256)\n",
      "BR035_15T_20180703_vent_mask.nii.gz (256, 256, 256)\n",
      "BR027_15T_20180328_vent_mask.nii.gz (256, 256, 256)\n",
      "BR014_15T_20171115_vent_mask.nii.gz (256, 256, 256)\n",
      "EX33075_20171025_vent_mask.nii.gz (256, 256, 256)\n",
      "LASH019_20180605_vent_mask.nii.gz (256, 256, 256)\n",
      "BR023_15T_20180130_vent_mask.nii.gz (256, 256, 256)\n",
      "BR006_15T_20171016_vent_mask.nii.gz (256, 256, 256)\n",
      "BR031_15T_20180416_vent_mask.nii.gz (256, 256, 256)\n",
      "total file:  41\n"
     ]
    }
   ],
   "source": [
    "directory=\"/Users/baymac/Desktop/RawData/15T_Test/\"\n",
    "counter=0\n",
    "for group in os.listdir(directory):\n",
    "    group_path=os.path.join(directory,group)\n",
    "    \n",
    "    for file in os.listdir(group_path):\n",
    "        file_path=os.path.join(group_path,file)\n",
    "#         print(file_path)\n",
    "        img=nib.load(file_path)\n",
    "        counter+=1\n",
    "        print(file, img.shape)\n",
    "print(\"total file: \", counter)"
   ]
  },
  {
   "cell_type": "code",
   "execution_count": null,
   "metadata": {},
   "outputs": [],
   "source": []
  }
 ],
 "metadata": {
  "kernelspec": {
   "display_name": "Python 3",
   "language": "python",
   "name": "python3"
  },
  "language_info": {
   "codemirror_mode": {
    "name": "ipython",
    "version": 3
   },
   "file_extension": ".py",
   "mimetype": "text/x-python",
   "name": "python",
   "nbconvert_exporter": "python",
   "pygments_lexer": "ipython3",
   "version": "3.7.2"
  }
 },
 "nbformat": 4,
 "nbformat_minor": 2
}
