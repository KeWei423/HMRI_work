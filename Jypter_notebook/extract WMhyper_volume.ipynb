{
 "cells": [
  {
   "cell_type": "code",
   "execution_count": 148,
   "metadata": {},
   "outputs": [],
   "source": [
    "#get all import libraries\n",
    "import glob\n",
    "import sys\n",
    "import os\n",
    "import urllib.request\n",
    "import pandas as pd"
   ]
  },
  {
   "cell_type": "code",
   "execution_count": 149,
   "metadata": {},
   "outputs": [],
   "source": [
    "#input: current HTML file\n",
    "#output: ID, thr, and WM volume\n",
    "def get_WM_info (file_path):\n",
    "#     print(file_path)\n",
    "    pathsplit='_'.join(file_path.split('/')[1:]).split('_')\n",
    "    ID='_'.join([pathsplit[12][2:], pathsplit[-1][:-5]])\n",
    "#     print(\"ID: \", ID)\n",
    "    \n",
    "    html_file=open(file_path, 'r', encoding='utf-8')\n",
    "    for i, line in enumerate(html_file):\n",
    "        if i==103:\n",
    "#             print(line)\n",
    "            volume=line[line.find('>')+1:line.find(' ml')]\n",
    "#             print(\"ID: %s \\nVolume: %s\" %(ID, volume))\n",
    "        else:\n",
    "            continue\n",
    "    return ID, volume"
   ]
  },
  {
   "cell_type": "code",
   "execution_count": 5,
   "metadata": {},
   "outputs": [],
   "source": [
    "#input: grad data\n",
    "def save_as_excel(path, data):\n",
    "\tfile_name=\"WM_Leasion.xlsx\"\n",
    "\tworkbook=xlsxwriter.Workbook(path + file_name)\n",
    "\tworksheet=workbook.add_worksheet()\n",
    "\n",
    "\theader=[\"ID\", \"thr=0.1\", \"thr=0.2\", \"thr=0.3\", \"thr=0.4\", \"thr=0.5\", \"thr=0.6\", \"thr=0.7\", \"thr=0.8\", \"thr=0.9\"]\n",
    "\tfor i in range(len(header)):\n",
    "\t\tworksheet.write(0,i, header[i])\n",
    "\n",
    "\trow=1\n",
    "\n",
    "\tfor key in data.keys():\n",
    "\t\tcol=0\n",
    "\t\tworksheet.write(row, col, key)\n",
    "\t\t# print (row, col, key)\n",
    "\t\tfor item in data[key]:\n",
    "\t\t\tworksheet.write(row, col+1, item)\n",
    "\t\t\tcol+=1\n",
    "\t\t\tprint (row, col, item)\n",
    "\t\trow+=1\n",
    "\n",
    "\tworkbook.close()\n"
   ]
  },
  {
   "cell_type": "code",
   "execution_count": 150,
   "metadata": {},
   "outputs": [],
   "source": [
    "def main ():\n",
    "    dir=input(\"workdir: \")\n",
    "    matrix = {'ID' : [],\n",
    "              'Volume (ml)' : []}\n",
    "    \n",
    "    #read input HTML and get needed info\n",
    "    for filename in glob.glob(os.path.join(dir, '*.html')):\n",
    "        #read HTML\n",
    "        ID, volume=get_WM_info(filename)\n",
    "#         print(\"ID: %s \\nVolume: %s\" %(ID, volume))\n",
    "\n",
    "        #append info to data\n",
    "        matrix['ID'].append(ID)\n",
    "        matrix['Volume (ml)'].append(volume)\n",
    "#         if ID in matrix:\n",
    "#             matrix[ID].append(volume)\n",
    "#         else:\n",
    "#             matrix[ID]=[volume]\n",
    "\n",
    "    data=pd.DataFrame(matrix)\n",
    "#     print(data)\n",
    "    data.to_csv(\"/Users/baymac/Desktop/WMH1.5T_WMhyper.csv\", index=False)\n",
    "\n",
    "    #write the matrix into an excel\n",
    "#     save_as_excel(dir, matrix)\n",
    "    return"
   ]
  },
  {
   "cell_type": "code",
   "execution_count": 151,
   "metadata": {},
   "outputs": [
    {
     "name": "stdout",
     "output_type": "stream",
     "text": [
      "workdir: /Users/baymac/Desktop/Data_todo/WMhyper_15T/T1/\n"
     ]
    }
   ],
   "source": [
    "if __name__ == '__main__': main()"
   ]
  },
  {
   "cell_type": "code",
   "execution_count": null,
   "metadata": {},
   "outputs": [],
   "source": []
  }
 ],
 "metadata": {
  "kernelspec": {
   "display_name": "Python 3",
   "language": "python",
   "name": "python3"
  },
  "language_info": {
   "codemirror_mode": {
    "name": "ipython",
    "version": 3
   },
   "file_extension": ".py",
   "mimetype": "text/x-python",
   "name": "python",
   "nbconvert_exporter": "python",
   "pygments_lexer": "ipython3",
   "version": "3.7.2"
  }
 },
 "nbformat": 4,
 "nbformat_minor": 2
}
