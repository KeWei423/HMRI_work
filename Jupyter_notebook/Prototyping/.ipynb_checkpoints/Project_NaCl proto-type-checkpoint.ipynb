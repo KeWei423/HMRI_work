{
 "cells": [
  {
   "cell_type": "code",
   "execution_count": 125,
   "metadata": {},
   "outputs": [],
   "source": [
    "import os\n",
    "import pandas as pd\n",
    "import fnmatch"
   ]
  },
  {
   "cell_type": "code",
   "execution_count": 149,
   "metadata": {},
   "outputs": [],
   "source": [
    "def get_path(root):\n",
    "#     print(\"path: \", path)\n",
    "    for path, subdirs, files in os.walk(root):\n",
    "        for file in files:\n",
    "\n",
    "            file_upper=file.upper()\n",
    "#             print(file_upper)\n",
    "            if fnmatch.fnmatch(file_upper, '*SAG*T1*NII') or fnmatch.fnmatch(file_upper, '*SAG*FSPGR*3D*NII'):\n",
    "#             if (re.search('*SAG.*T1', file)):\n",
    "                print(file_upper)\n",
    "            elif fnmatch.fnmatch(file_upper, '*SAG*NII'):\n",
    "                print('\\t', file_upper)\n",
    "#             print(file_upper)"
   ]
  },
  {
   "cell_type": "code",
   "execution_count": 150,
   "metadata": {},
   "outputs": [],
   "source": [
    "def main():\n",
    "#     source_dir=input(\"Enter source dir:\")\n",
    "    source_dir=\"/Users/baymac/Desktop/Project_NaCl_Test_DataSet/3T_Last_updated_31OCT19KW\"\n",
    "    get_path(source_dir)\n",
    "        "
   ]
  },
  {
   "cell_type": "code",
   "execution_count": 151,
   "metadata": {},
   "outputs": [
    {
     "name": "stdout",
     "output_type": "stream",
     "text": [
      "\t WH1615_SAG_CUBE_FLAIR_20180105140227.NII\n",
      "WH1615_SAG_FSPGR_3D_T1_20180105140227.NII\n",
      "\t WH1414_SAG_CUBE_FLAIR_20190104092712.NII\n",
      "WH1414_SAG_FSPGR_3D_20190104092712.NII\n",
      "\t WH1645_SAG_CUBE_FLAIR_20180208143523.NII\n",
      "WH1645_SAG_FSPGR_3D_T1_20180208143523.NII\n",
      "\t WH1655_SAG_CUBE_FLAIR_20180626145230.NII\n",
      "WH1655_SAG_FSPGR_3D_20180626145230.NII\n",
      "WH1737_SAGITTAL_T1_3D_20190708090335.NII\n",
      "\t WH1737_SAGITTAL_FLAIR_3D_20190708090335.NII\n",
      "WH1737_SAGITTAL_T1_20190708090335.NII\n",
      "\t WH1737_SAGITTAL_FLAIR_20190708090335.NII\n",
      "\t WH1737_SAGITTAL_T2_20190708090335.NII\n",
      "\t WH1737_SAGITTAL_T2_3D_20190708090335.NII\n",
      "\t WH1419_SAG_CUBE_FLAIR_20180629103853.NII\n",
      "WH1419_SAG_FSPGR_3D_20180629103853.NII\n",
      "\t WH1624_SAG_CUBE_FLAIR_20170829105946.NII\n",
      "WH1624_SAG_FSPGR_3D_T1_20170829105946.NII\n",
      "WH1726_SAGITTAL_T1_3D_20190702130610.NII\n",
      "\t WH1726_SAGITTAL_FLAIR_3D_20190702130610.NII\n",
      "WH1726_SAGITTAL_T1_20190702130610.NII\n",
      "\t WH1726_SAGITTAL_FLAIR_20190702130610.NII\n",
      "\t WH1726_SAGITTAL_T2_20190702130610.NII\n",
      "\t WH1726_SAGITTAL_T2_3D_20190702130610.NII\n",
      "\t WH1634_SAG_CUBE_FLAIR_20171010110844.NII\n",
      "WH1634_SAG_FSPGR_3D_T1_20171010110844.NII\n",
      "\t WH1142_SAG_CUBE_FLAIR_20170502100931.NII\n",
      "WH1142_SAG_FSPGR_3D_20170502100931.NII\n",
      "WH1727_SAGITTAL_T1_3D_20190603131028.NII\n",
      "\t WH1727_SAGITTAL_T2_3D_20190603131028.NII\n",
      "\t WH1482_MULTIPLANAR_RECONSTRUCTION_(MPR)_OB_SAG_R_-__L_AVERAGE_SP_4.8_T_20161111100738.NII\n",
      "\t WH1482_SAG_CUBE_FLAIR_20161111100738.NII\n",
      "\t WH1482_SAG_FSPGR_BRAVO_20161111100738.NII\n",
      "WH1482_SAG_FSPGR_3D_20161111100738.NII\n",
      "\t WH1482_SAG_CUBE_T2_20161111100738.NII\n",
      "WH1331_SAGITTAL_T1_3D_20190514132222.NII\n",
      "\t WH1331_SAGITTAL_FLAIR_3D_20190514132222.NII\n",
      "WH1331_SAGITTAL_T1_20190514132222.NII\n",
      "\t WH1331_SAGITTAL_FLAIR_20190514132222.NII\n",
      "\t WH1331_SAGITTAL_T2_20190514132222.NII\n",
      "\t WH1331_SAGITTAL_T2_3D_20190514132222.NII\n",
      "\t WH1492_SAG_CUBE_FLAIR_MIP_20170222140740.NII\n",
      "\t WH1492_SAG_CUBE_FLAIR_20170222140740.NII\n",
      "WH1492_SAG_FSPGR_3D_20170222140740.NII\n",
      "\t WH1492_SAG_CUBE_T2_20170222140740.NII\n",
      "\t WH1492_SAG_FSPGR_AVG_20170222140740.NII\n",
      "\t WH1484_SAG_CUBE_FLAIR_20170718140650.NII\n",
      "WH1484_SAG_FSPGR_3D_T1_20170718140650.NII\n"
     ]
    }
   ],
   "source": [
    "if __name__ ==\"__main__\":\n",
    "    main()"
   ]
  },
  {
   "cell_type": "code",
   "execution_count": null,
   "metadata": {},
   "outputs": [],
   "source": []
  }
 ],
 "metadata": {
  "kernelspec": {
   "display_name": "Python 3",
   "language": "python",
   "name": "python3"
  },
  "language_info": {
   "codemirror_mode": {
    "name": "ipython",
    "version": 3
   },
   "file_extension": ".py",
   "mimetype": "text/x-python",
   "name": "python",
   "nbconvert_exporter": "python",
   "pygments_lexer": "ipython3",
   "version": "3.7.2"
  }
 },
 "nbformat": 4,
 "nbformat_minor": 2
}
