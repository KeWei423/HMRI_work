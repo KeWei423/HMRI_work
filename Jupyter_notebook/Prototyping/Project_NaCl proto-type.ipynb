{
 "cells": [
  {
   "cell_type": "code",
   "execution_count": 70,
   "metadata": {},
   "outputs": [],
   "source": [
    "import os\n",
    "import pandas as pd\n",
    "import fnmatch\n",
    "import re"
   ]
  },
  {
   "cell_type": "code",
   "execution_count": 2,
   "metadata": {},
   "outputs": [],
   "source": [
    "# NOTE: Possible names for each sequence\n",
    "\n",
    "# \"3D_T1\": ['*SAG*T1*NII', '*SAG*FSPGR*3D*NII']\n",
    "    "
   ]
  },
  {
   "cell_type": "code",
   "execution_count": 3,
   "metadata": {},
   "outputs": [],
   "source": [
    "def get_plane(info):\n",
    "    if 'SAG' in info: return 'SAG'\n",
    "    elif 'COR' in info: return 'COR'\n",
    "    elif 'AX' in info: return 'AX'\n",
    "    else: return 'UNKNOWN'"
   ]
  },
  {
   "cell_type": "code",
   "execution_count": 219,
   "metadata": {},
   "outputs": [],
   "source": [
    "def is_3D(info):\n",
    "    if '3D' in info or 'CUBE' in info:\n",
    "        return True\n",
    "    else:\n",
    "        return False"
   ]
  },
  {
   "cell_type": "code",
   "execution_count": 5,
   "metadata": {},
   "outputs": [],
   "source": [
    "def get_DOE(info):\n",
    "#     print(info[-1])\n",
    "    if 'I' in info[-1]:\n",
    "        DOE=info[-2]\n",
    "    else:\n",
    "        DOE=info[-1]\n",
    "    YYYY=DOE[0:4]\n",
    "    MM=DOE[4:6]\n",
    "    DD=DOE[6:8]\n",
    "    return(YYYY+\"/\"+MM+'/'+DD)"
   ]
  },
  {
   "cell_type": "code",
   "execution_count": 6,
   "metadata": {},
   "outputs": [],
   "source": [
    "def get_sequence_info(sequence_name):\n",
    "    return (sequence_name.replace('-','_').replace('.','_').split('_'))[:-1]"
   ]
  },
  {
   "cell_type": "code",
   "execution_count": 7,
   "metadata": {},
   "outputs": [],
   "source": [
    "def sort_T1(file_name):\n",
    "    \n",
    "    sequence_name=''\n",
    "    sequence_DOE=''\n",
    "    problem_T1=[]\n",
    "    \n",
    "    sequence_info=get_sequence_info(file_name)\n",
    "    \n",
    "    ID=sequence_info[0]\n",
    "    \n",
    "    if is_3D(sequence_info) and (get_plane(sequence_info) == 'SAG'):\n",
    "        sequence_DOE=get_DOE(sequence_info)\n",
    "        sequence_name='3D_FSPGR'\n",
    "    \n",
    "    #the scan is 2D\n",
    "    elif (not is_3D(sequence_info)) and (get_plane(sequence_info) is not 'UNKNOWN'):\n",
    "#         problem_T1.append(file_name)\n",
    "        sequence_name=get_plane(sequence_info)+'_FSPGR'\n",
    "        sequnece_DOE=get_DOE(sequence_info)\n",
    "\n",
    "    else:\n",
    "        problem_T1.append(file_name)\n",
    "        \n",
    "    print(ID+\": \", sequence_name + \" --> \" +sequence_DOE)\n",
    "        \n",
    "    return(ID, [sequence_name, sequence_DOE])\n",
    "    \n",
    "#TO-DO: repeated exam of the same date or at the different date\n",
    "    "
   ]
  },
  {
   "cell_type": "code",
   "execution_count": 251,
   "metadata": {},
   "outputs": [],
   "source": [
    "def get_path(root):\n",
    "    bolds = []\n",
    "    flair = []\n",
    "    flair_3d = []\n",
    "    flair_2d = []\n",
    "    change = 0\n",
    "    for path, subdirs, files in os.walk(root):\n",
    "        for file in files:\n",
    "            file_upper=file.upper()\n",
    "            if fnmatch.fnmatch(file_upper, '*T1*NII') or fnmatch.fnmatch(file_upper, '*FSPGR*NII'):\n",
    "#                 print(\"T1:\", file_upper)\n",
    "#                 file_info=sort_T1(file_upper)\n",
    "                pass\n",
    "            elif fnmatch.fnmatch(file_upper, '*FLAIR*NII'): \n",
    "#                 print(\"FLAIR: \\t\", file_upper)\n",
    "                n_file = sort_FLAIR(file_upper, flair_3d, flair_2d)\n",
    "                if n_file is not None:\n",
    "                    flair.append((file, n_file))\n",
    "#                     if file != n_file:\n",
    "#                         #TODO: rename file\n",
    "#                         print(file, '-->', n_file)\n",
    "#                 pass\n",
    "            elif fnmatch.fnmatch(file_upper, '*T2*NII'):\n",
    "#                 print('\\t', file_upper)\n",
    "#                 sort_T2(file_upper)\n",
    "                pass\n",
    "            elif fnmatch.fnmatch(file_upper, '*BOLD*NII'):\n",
    "                n_file = sort_bold(file_upper)\n",
    "                if n_file is not None:\n",
    "#                     print(file, '-->', n_file)\n",
    "                    bolds.append((file, n_file))\n",
    "#                     if file != n_file:\n",
    "#                         #TODO: rename file\n",
    "#                         print(file, '-->', n_file)\n",
    "#                 pass\n",
    "            elif fnmatch.fnmatch(file_upper, '*DTI*NII') or fnmatch.fnmatch(file_upper, '*DKI*NII') or fnmatch.fnmatch(file_upper, '*DIFF*NII') or fnmatch.fnmatch(file_upper, '*DWI*NII') or fnmatch.fnmatch(file_upper, '*AVER*DC*NII') or fnmatch.fnmatch(file_upper, '*FRACT*ANISO*NII'):\n",
    "#                 print('\\t', file_upper)\n",
    "#                 sort_diffusion(file_upper)\n",
    "                pass\n",
    "            elif fnmatch.fnmatch(file_upper, '*ASL*NII'):\n",
    "#                 sort_asl(file_upper)\n",
    "                pass\n",
    "            elif fnmatch.fnmatch(file_upper, '*SWAN*NII'):\n",
    "#                 sort_swan(file_upper)\n",
    "                pass\n",
    "            elif fnmatch.fnmatch(file_upper, '*CSF*NII'):\n",
    "#                 sort_csf(file_upper)\n",
    "                pass\n",
    "            elif fnmatch.fnmatch(file_upper, '*CAROTID*NII'):\n",
    "                pass\n",
    "#                 print(file_upper)\n",
    "#                 sort_carotid(file_upper)\n",
    "            elif fnmatch.fnmatch(file_upper, '*AORTA*NII'):\n",
    "#                 print(file_upper)\n",
    "#                 sort_aorta(file_upper)\n",
    "                pass\n",
    "            elif fnmatch.fnmatch(file_upper, '*CEREBR*BLOOD*FLOW*NII'):\n",
    "#                 print(file_upper)\n",
    "#                 sort_cbf(file_upper)\n",
    "                pass\n",
    "            elif fnmatch.fnmatch(file_upper, '*MPR*NII'):\n",
    "#                 print(file_upper)\n",
    "#                 sort_mpr(file_upper)\n",
    "                pass\n",
    "            elif 'LOC' not in file_upper and fnmatch.fnmatch(file_upper, '*CANDY_CANE*NII'):\n",
    "#                 print(file_upper)\n",
    "#                 sort_candy_cane(file_upper)\n",
    "                pass\n",
    "            elif 'LOC' not in file_upper and fnmatch.fnmatch(file_upper, '*ARCH*NII'):\n",
    "#                 print(file_upper)\n",
    "#                 sort_arch(file_upper)\n",
    "                pass\n",
    "            elif 'LOC' not in file_upper and fnmatch.fnmatch(file_upper, '*PROBE*NII'):\n",
    "#                 print(file_upper)\n",
    "#                 sort_probe(file_upper)\n",
    "                pass\n",
    "            elif fnmatch.fnmatch(file_upper, '*NII'):\n",
    "#                 print('\\t', file_upper)\n",
    "                pass\n",
    "            else:\n",
    "#                 print('\\t\\t', file_upper)\n",
    "                pass\n",
    "#     print(len(bolds))\n",
    "#     for pair in bolds:\n",
    "#         print(pair)\n",
    "#     print(len(flair))\n",
    "#     print(len(flair_3d))\n",
    "#     print(len(flair_2d))\n",
    "#     print(change)"
   ]
  },
  {
   "cell_type": "code",
   "execution_count": 252,
   "metadata": {},
   "outputs": [],
   "source": [
    "def main():\n",
    "#     source_dir=input(\"Enter source dir:\")\n",
    "#     source_dir=\"/Users/baymac/Desktop/Project_NaCl_Test_DataSet/3T_Last_updated_31OCT19KW\"\n",
    "    source_dir = '/media/ke/8tb_part2/FSL_work/all_info'\n",
    "    get_path(source_dir)\n",
    "        "
   ]
  },
  {
   "cell_type": "code",
   "execution_count": 253,
   "metadata": {
    "scrolled": true
   },
   "outputs": [],
   "source": [
    "if __name__ ==\"__main__\":\n",
    "    main()"
   ]
  },
  {
   "cell_type": "code",
   "execution_count": 246,
   "metadata": {},
   "outputs": [],
   "source": [
    "# Naming to be estabilshed\n",
    "# <ID>_{SAG | AX | COR}_[T1_ | T2_][3D_]FLAIR_[MIP_ | RECON_AVG_]<DOE>[_<tag>].nii\n",
    "def sort_FLAIR(sequence_name, flair_3d, flair_2d):\n",
    "    sequence_info=get_sequence_info(sequence_name)\n",
    "    \n",
    "    ID = sequence_info[0]\n",
    "    # ID does not follow designation [2-3 letter cohort designation][3-4 number designation]\n",
    "    match = re.match(r\"([A-Z]+)([0-9]+)\", ID, re.I)\n",
    "    if match:\n",
    "        parts = match.groups()\n",
    "        if parts[0] == 'WHITTIER':\n",
    "            sequence_name = sequence_name.replace('WHITTIER', 'WH')\n",
    "            sequence_info=get_sequence_info(sequence_name)\n",
    "            \n",
    "    if (\"SAG\" or \"SAGITTAL\") in sequence_name:\n",
    "#         print(sequence_info)\n",
    "        if is_3D(sequence_name):\n",
    "            flair_3d.append(sequence_name)\n",
    "        else:\n",
    "            flair_2d.append(sequence_name)\n",
    "    elif ('AX' or 'AXIAL') in sequence_name:\n",
    "#         print(sequence_info)\n",
    "        if is_3D(sequence_name):\n",
    "            flair_3d.append(sequence_name)\n",
    "        else:\n",
    "            flair_2d.append(sequence_name)\n",
    "    elif ('COR' or 'CORONAL') in sequence_name:\n",
    "#         print(sequence_info)\n",
    "        if is_3D(sequence_name):\n",
    "            flair_3d.append(sequence_name)\n",
    "        else:\n",
    "            flair_2d.append(sequence_name)\n",
    "    else: \n",
    "        print(\"\\t \", sequence_name)\n",
    "        return None\n",
    "            \n",
    "    sequence_name = '_'.join(sequence_info).replace('SAGITTAL', 'SAG').replace('CUBE', '3D').replace('AXIAL', 'AX').replace('CORONAL', 'COR')+'.nii'\n",
    "    return sequence_name\n",
    "\n",
    "#TO-DO: T1 has 3D, 2D"
   ]
  },
  {
   "cell_type": "code",
   "execution_count": 12,
   "metadata": {},
   "outputs": [],
   "source": [
    "def sort_T2(sequence_name):\n",
    "    sequence_info=get_sequence_info(sequence_name)\n",
    "    if (\"SAG\" or \"SAGITTAL\") in sequence_name:\n",
    "        print(sequence_info)\n",
    "    elif ('AX' or 'AXIAL') in sequence_name:\n",
    "        print(sequence_info)\n",
    "    elif ('COR' or 'CORONAL') in sequence_name:\n",
    "        print(sequence_info)\n",
    "    else: \n",
    "        print(\"\\t \", sequence_name)\n",
    "\n",
    "#TO-DO: T2 has difference pulse types :0 and some other things"
   ]
  },
  {
   "cell_type": "code",
   "execution_count": 13,
   "metadata": {},
   "outputs": [],
   "source": [
    "def sort_diffusion(sequence_name):\n",
    "    sequence_info=get_sequence_info(sequence_name)\n",
    "#     print(sequence_name)\n",
    "    print(sequence_info)\n",
    "\n",
    "#TO-DO: this one will be A LOT OF FUN!"
   ]
  },
  {
   "cell_type": "code",
   "execution_count": 173,
   "metadata": {},
   "outputs": [],
   "source": [
    "def sort_bold(sequence_name):\n",
    "    sequence_info=get_sequence_info(sequence_name)\n",
    "    \n",
    "    ID = sequence_info[0]\n",
    "    problem_bold = None\n",
    "    \n",
    "    other = []\n",
    "    \n",
    "    for part in sequence_info:\n",
    "        if '(' not in part and ')' not in part:\n",
    "            other.append(part)\n",
    "            \n",
    "    sequence_info = other  \n",
    "    sequence_name = '_'.join(sequence_info)+'.nii'    \n",
    "    \n",
    "    # The following ID's are the problem ones (from previous runs). Checking if these ID's are unique\n",
    "#     probs = ['SH005', 'WH1296', 'MEN009', 'WH1612', 'WH1268', 'MEN040', 'SH019', \n",
    "#              'MEN023', 'MEN007', 'WHITTIER5002']\n",
    "    \n",
    "    # If it contains EQ_1 or a letter attached to the end of the DOE,\n",
    "    # then there is a previous one that already exists\n",
    "    if sequence_info[-2] == 'EQ' or not sequence_info[-1].isdigit():\n",
    "        return None\n",
    "        \n",
    "#     elif ID in probs:\n",
    "#         problem_bold = sequence_name\n",
    "    \n",
    "    # BOLD naming convention: <ID>_BOLD_<DOE>\n",
    "    elif len(sequence_info) != 3:\n",
    "        problem_bold = sequence_name\n",
    "    \n",
    "    \n",
    "    # ID does not follow designation [2-3 letter cohort designation][3-4 number designation]\n",
    "    match = re.match(r\"([A-Z]+)([0-9]+)\", ID, re.I)\n",
    "    if match:\n",
    "        parts = match.groups()\n",
    "        if parts[0] == 'WHITTIER':\n",
    "            sequence_name = sequence_name.replace('WHITTIER', 'WH')\n",
    "        \n",
    "    elif len(ID) > 7:\n",
    "        problem_bold = sequence_name\n",
    "    \n",
    "#     return problem_bold\n",
    "    return sequence_name"
   ]
  },
  {
   "cell_type": "code",
   "execution_count": 15,
   "metadata": {},
   "outputs": [],
   "source": [
    "def sort_asl(sequence_name):\n",
    "    sequence_info=get_sequence_info(sequence_name)\n",
    "#     print(sequence_name)\n",
    "    print(sequence_info)"
   ]
  },
  {
   "cell_type": "code",
   "execution_count": 16,
   "metadata": {},
   "outputs": [],
   "source": [
    "def sort_csf(sequence_name):\n",
    "    sequence_info=get_sequence_info(sequence_name)\n",
    "#     print(sequence_name)\n",
    "    print(sequence_info)\n",
    "\n",
    "#TO-DO: CSF of different location and CINE ON/OFF"
   ]
  },
  {
   "cell_type": "code",
   "execution_count": 17,
   "metadata": {},
   "outputs": [],
   "source": [
    "def sort_carotid(sequence_name):\n",
    "    sequence_info=get_sequence_info(sequence_name)\n",
    "#     print(sequence_name)\n",
    "    print(sequence_info)"
   ]
  },
  {
   "cell_type": "code",
   "execution_count": 18,
   "metadata": {},
   "outputs": [],
   "source": [
    "def sort_aorta(sequence_name):\n",
    "    sequence_info=get_sequence_info(sequence_name)\n",
    "#     print(sequence_name)\n",
    "    print(sequence_info)"
   ]
  },
  {
   "cell_type": "code",
   "execution_count": 19,
   "metadata": {},
   "outputs": [],
   "source": [
    "def sort_candy_cane(sequence_name):\n",
    "    sequence_info=get_sequence_info(sequence_name)\n",
    "#     print(sequence_name)\n",
    "    print(sequence_info)"
   ]
  },
  {
   "cell_type": "code",
   "execution_count": 20,
   "metadata": {},
   "outputs": [],
   "source": [
    "def sort_arch(sequence_name):\n",
    "    sequence_info=get_sequence_info(sequence_name)\n",
    "#     print(sequence_name)\n",
    "    print(sequence_info)"
   ]
  },
  {
   "cell_type": "code",
   "execution_count": 21,
   "metadata": {},
   "outputs": [],
   "source": [
    "def sort_mpr(sequence_name):\n",
    "    sequence_info=get_sequence_info(sequence_name)\n",
    "#     print(sequence_name)\n",
    "    print(sequence_info)"
   ]
  },
  {
   "cell_type": "code",
   "execution_count": 22,
   "metadata": {},
   "outputs": [],
   "source": [
    "def sort_cbf(sequence_name):\n",
    "    sequence_info=get_sequence_info(sequence_name)\n",
    "#     print(sequence_name)\n",
    "    print(sequence_info)"
   ]
  },
  {
   "cell_type": "code",
   "execution_count": 23,
   "metadata": {},
   "outputs": [],
   "source": [
    "def sort_probe(sequence_name):\n",
    "    sequence_info=get_sequence_info(sequence_name)\n",
    "#     print(sequence_name)\n",
    "    print(sequence_info)"
   ]
  },
  {
   "cell_type": "code",
   "execution_count": null,
   "metadata": {},
   "outputs": [],
   "source": []
  },
  {
   "cell_type": "code",
   "execution_count": null,
   "metadata": {},
   "outputs": [],
   "source": []
  }
 ],
 "metadata": {
  "kernelspec": {
   "display_name": "Python 3",
   "language": "python",
   "name": "python3"
  },
  "language_info": {
   "codemirror_mode": {
    "name": "ipython",
    "version": 3
   },
   "file_extension": ".py",
   "mimetype": "text/x-python",
   "name": "python",
   "nbconvert_exporter": "python",
   "pygments_lexer": "ipython3",
   "version": "3.7.4"
  }
 },
 "nbformat": 4,
 "nbformat_minor": 2
}
