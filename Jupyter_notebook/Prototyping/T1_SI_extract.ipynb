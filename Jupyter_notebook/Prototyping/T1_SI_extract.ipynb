{
 "cells": [
  {
   "cell_type": "code",
   "execution_count": 379,
   "metadata": {},
   "outputs": [],
   "source": [
    "import os\n",
    "import pandas as pd\n",
    "import openpyxl"
   ]
  },
  {
   "cell_type": "code",
   "execution_count": 387,
   "metadata": {},
   "outputs": [],
   "source": [
    "def get_path(root):\n",
    "    database=pd.DataFrame()\n",
    "    \n",
    "    for path, subdirs, files in os.walk(root):\n",
    "        for file in files:\n",
    "            file_p=os.path.join(root, file)\n",
    "#             print(\"file: \", file_p)\n",
    "            filter_1=pd.read_csv(file_p, sep=' +', comment='#', header=None, usecols=[4, 5, 6])\n",
    "            filter_2=filter_1.loc[filter_1[4].str.contains('Cerebral-White-Matter|Putamen|Pallidum|Brain-Stem', regex=True)].reset_index(drop=True)\n",
    "            filter_2.columns=['Label', 'Mean', \"SD\"]\n",
    "            \n",
    "            filter_mean = filter_2.drop(columns=['SD'])\n",
    "            filter_mean.columns=['Label', 'Data']\n",
    "            filter_mean['Label'] = [label+'_mean' for label in filter_mean['Label']]\n",
    "            filter_sd = filter_2.drop(columns=['Mean'])\n",
    "            filter_sd.columns=['Label', 'Data']\n",
    "            filter_sd['Label'] = [label+'_sd' for label in filter_sd['Label']]\n",
    "            \n",
    "            filter_3 = pd.concat((filter_mean, filter_sd)).T\n",
    "            filter_3.columns=filter_3.iloc[0]\n",
    "            \n",
    "            info=file[:-4].split(\"_\")\n",
    "#             print(\"info: \", info)\n",
    "            if info[-1]=='brain':\n",
    "                filter_3[\"type\"]=\"brain\"\n",
    "            elif info[-1]==\"T1\":\n",
    "                filter_3[\"type\"]=\"T1\"\n",
    "        \n",
    "            final = filter_3.drop('Label').rename(index={'Data':file[:-4]})\n",
    "            \n",
    "            database=database.append(final)\n",
    "        return database"
   ]
  },
  {
   "cell_type": "code",
   "execution_count": 388,
   "metadata": {},
   "outputs": [],
   "source": [
    "def main():\n",
    "    source_dir=\"/Users/baymac/Desktop/results/\"\n",
    "    database=get_path(source_dir)\n",
    "    database.to_csv(\"/Users/baymac/Desktop/T1_SI.csv\")\n",
    "#     print(database.head())"
   ]
  },
  {
   "cell_type": "code",
   "execution_count": 389,
   "metadata": {},
   "outputs": [
    {
     "name": "stderr",
     "output_type": "stream",
     "text": [
      "/Library/Frameworks/Python.framework/Versions/3.7/lib/python3.7/site-packages/ipykernel_launcher.py:8: ParserWarning: Falling back to the 'python' engine because the 'c' engine does not support regex separators (separators > 1 char and different from '\\s+' are interpreted as regex); you can avoid this warning by specifying engine='python'.\n",
      "  \n"
     ]
    }
   ],
   "source": [
    "if __name__ ==\"__main__\":\n",
    "    main()"
   ]
  },
  {
   "cell_type": "raw",
   "metadata": {},
   "source": []
  },
  {
   "cell_type": "code",
   "execution_count": null,
   "metadata": {},
   "outputs": [],
   "source": []
  }
 ],
 "metadata": {
  "kernelspec": {
   "display_name": "Python 3",
   "language": "python",
   "name": "python3"
  },
  "language_info": {
   "codemirror_mode": {
    "name": "ipython",
    "version": 3
   },
   "file_extension": ".py",
   "mimetype": "text/x-python",
   "name": "python",
   "nbconvert_exporter": "python",
   "pygments_lexer": "ipython3",
   "version": "3.7.2"
  }
 },
 "nbformat": 4,
 "nbformat_minor": 2
}
