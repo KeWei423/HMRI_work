{
 "cells": [
  {
   "cell_type": "code",
   "execution_count": 1,
   "metadata": {},
   "outputs": [],
   "source": [
    "import os\n",
    "import pandas as pd"
   ]
  },
  {
   "cell_type": "code",
   "execution_count": 322,
   "metadata": {},
   "outputs": [],
   "source": [
    "def get_path(root):\n",
    "    database=pd.DataFrame()\n",
    "    \n",
    "    for path, subdirs, files in os.walk(root):\n",
    "        for file in files:\n",
    "            file_p=os.path.join(root, file)\n",
    "#             print(\"file: \", file_p)\n",
    "            filter_1=pd.read_csv(file_p, sep=' +', comment='#', header=None, usecols=[4, 5, 6])\n",
    "            filter_2=filter_1.loc[filter_1[4].str.contains('Cerebral-White-Matter|Putamen|Pallidum|Brain-Stem', regex=True)].reset_index(drop=True)\n",
    "            filter_2.columns=['Label', 'Mean', \"SD\"]\n",
    "            \n",
    "            filter_mean = filter_2.drop(columns=['SD'])\n",
    "            filter_mean.columns=['Label', 'Data']\n",
    "            filter_mean['Label'] = [label+'_mean' for label in filter_mean['Label']]\n",
    "            filter_sd = filter_2.drop(columns=['Mean'])\n",
    "            filter_sd.columns=['Label', 'Data']\n",
    "            filter_sd['Label'] = [label+'_sd' for label in filter_sd['Label']]\n",
    "            filter_3 = pd.concat((filter_mean, filter_sd)).T\n",
    "            filter_3.columns=filter_3.iloc[0]\n",
    "            final = filter_3.drop('Label').rename(index={'Data':file[:-4]})\n",
    "            \n",
    "            database=database.append(final)\n",
    "        return database"
   ]
  },
  {
   "cell_type": "code",
   "execution_count": 323,
   "metadata": {},
   "outputs": [],
   "source": [
    "def main():\n",
    "    source_dir=\"/Users/baymac/Desktop/results/\"\n",
    "    database=get_path(source_dir)\n",
    "    print(database.head())"
   ]
  },
  {
   "cell_type": "code",
   "execution_count": 324,
   "metadata": {},
   "outputs": [
    {
     "name": "stderr",
     "output_type": "stream",
     "text": [
      "/Library/Frameworks/Python.framework/Versions/3.7/lib/python3.7/site-packages/ipykernel_launcher.py:8: ParserWarning: Falling back to the 'python' engine because the 'c' engine does not support regex separators (separators > 1 char and different from '\\s+' are interpreted as regex); you can avoid this warning by specifying engine='python'.\n",
      "  \n"
     ]
    },
    {
     "name": "stdout",
     "output_type": "stream",
     "text": [
      "Label                 Left-Cerebral-White-Matter_mean Left-Putamen_mean  \\\n",
      "MEN002_20170215_brain                         101.316           85.3742   \n",
      "MEN023_20170314_brain                         101.704           95.3967   \n",
      "BR020_3T_20180109_T1                           100.39           88.2481   \n",
      "MEN026_20170315_brain                         101.517           88.9917   \n",
      "MEN006_20170209_T1                            103.114           94.2841   \n",
      "\n",
      "Label                 Left-Pallidum_mean Brain-Stem_mean  \\\n",
      "MEN002_20170215_brain            106.188         84.5149   \n",
      "MEN023_20170314_brain            108.545         93.4825   \n",
      "BR020_3T_20180109_T1             103.776         102.918   \n",
      "MEN026_20170315_brain             106.04         97.9645   \n",
      "MEN006_20170209_T1               108.224         102.738   \n",
      "\n",
      "Label                 Right-Cerebral-White-Matter_mean Right-Putamen_mean  \\\n",
      "MEN002_20170215_brain                          101.314            91.0068   \n",
      "MEN023_20170314_brain                          102.183            95.9255   \n",
      "BR020_3T_20180109_T1                           101.591            91.2854   \n",
      "MEN026_20170315_brain                          102.343            90.1621   \n",
      "MEN006_20170209_T1                             102.803            88.9872   \n",
      "\n",
      "Label                 Right-Pallidum_mean Left-Cerebral-White-Matter_sd  \\\n",
      "MEN002_20170215_brain             107.653                       10.3537   \n",
      "MEN023_20170314_brain             108.357                        9.3388   \n",
      "BR020_3T_20180109_T1              106.079                       10.1632   \n",
      "MEN026_20170315_brain              107.58                        9.5759   \n",
      "MEN006_20170209_T1                106.847                        8.4898   \n",
      "\n",
      "Label                 Left-Putamen_sd Left-Pallidum_sd Brain-Stem_sd  \\\n",
      "MEN002_20170215_brain         12.5321           7.0961       13.4263   \n",
      "MEN023_20170314_brain         10.7768           4.4687       12.4893   \n",
      "BR020_3T_20180109_T1           8.9407           6.9641       11.3794   \n",
      "MEN026_20170315_brain         10.3485           6.5883       12.5257   \n",
      "MEN006_20170209_T1             9.3045           4.3123       11.2636   \n",
      "\n",
      "Label                 Right-Cerebral-White-Matter_sd Right-Putamen_sd  \\\n",
      "MEN002_20170215_brain                        10.2286          12.0305   \n",
      "MEN023_20170314_brain                         8.9556           9.9488   \n",
      "BR020_3T_20180109_T1                          9.0699           9.5597   \n",
      "MEN026_20170315_brain                         8.5806           9.9666   \n",
      "MEN006_20170209_T1                            8.6144           7.8783   \n",
      "\n",
      "Label                 Right-Pallidum_sd  \n",
      "MEN002_20170215_brain            5.6849  \n",
      "MEN023_20170314_brain            4.4718  \n",
      "BR020_3T_20180109_T1             5.5493  \n",
      "MEN026_20170315_brain             5.173  \n",
      "MEN006_20170209_T1               6.0837  \n"
     ]
    }
   ],
   "source": [
    "if __name__ ==\"__main__\":\n",
    "    main()"
   ]
  },
  {
   "cell_type": "raw",
   "metadata": {},
   "source": []
  },
  {
   "cell_type": "code",
   "execution_count": null,
   "metadata": {},
   "outputs": [],
   "source": []
  }
 ],
 "metadata": {
  "kernelspec": {
   "display_name": "Python 3",
   "language": "python",
   "name": "python3"
  },
  "language_info": {
   "codemirror_mode": {
    "name": "ipython",
    "version": 3
   },
   "file_extension": ".py",
   "mimetype": "text/x-python",
   "name": "python",
   "nbconvert_exporter": "python",
   "pygments_lexer": "ipython3",
   "version": "3.7.2"
  }
 },
 "nbformat": 4,
 "nbformat_minor": 2
}
