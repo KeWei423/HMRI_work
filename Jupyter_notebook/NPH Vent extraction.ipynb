{
 "cells": [
  {
   "cell_type": "code",
   "execution_count": 16,
   "metadata": {},
   "outputs": [
    {
     "data": {
      "text/html": [
       "<style>.container { width:100% !important; }</style>"
      ],
      "text/plain": [
       "<IPython.core.display.HTML object>"
      ]
     },
     "metadata": {},
     "output_type": "display_data"
    }
   ],
   "source": [
    "from IPython.core.display import display, HTML\n",
    "display(HTML(\"<style>.container { width:100% !important; }</style>\"))"
   ]
  },
  {
   "cell_type": "code",
   "execution_count": 17,
   "metadata": {},
   "outputs": [],
   "source": [
    "import pandas as pd\n",
    "import glob"
   ]
  },
  {
   "cell_type": "code",
   "execution_count": 18,
   "metadata": {},
   "outputs": [
    {
     "name": "stdout",
     "output_type": "stream",
     "text": [
      "/home/ke/Desktop/NPH Files/NPH all data (Thao 13Sep19).xlsx\n",
      "/home/ke/Desktop/NPH Files/NPH All data 06Nov19_AM.xlsx\n",
      "/home/ke/Desktop/NPH Files/MASTER_NPH(Selma)Oct31_2019.xlsx\n",
      "/home/ke/Desktop/NPH Files/15T_vents.xlsx\n",
      "/home/ke/Desktop/NPH Files/NPH All data 01Nov19_Thao.xlsx\n",
      "/home/ke/Desktop/NPH Files/MASTER_NPH(Selma) 11-13-2019.xlsx\n",
      "/home/ke/Desktop/NPH Files/NPH Working Database 22Oct19.xlsx\n",
      "/home/ke/Desktop/NPH Files/NPH database 09Sep19.xlsx\n",
      "/home/ke/Desktop/NPH Files/Ventricle size and Callosal angle.xlsx\n",
      "/home/ke/Desktop/NPH Files/NPH All data 19Nov19_KW.xlsx\n"
     ]
    }
   ],
   "source": [
    "path = '/home/ke/Desktop/NPH Files'\n",
    "files = [f for f in glob.glob(path+'/*')]\n",
    "\n",
    "for f in files:\n",
    "    print(f)"
   ]
  },
  {
   "cell_type": "code",
   "execution_count": 21,
   "metadata": {
    "scrolled": false
   },
   "outputs": [
    {
     "name": "stdout",
     "output_type": "stream",
     "text": [
      "         ID Scanner       DOE  callosal angle  T_vent vol           ICV  V:I Ratio\n",
      "0     BR008    1.5T  20171019             NaN     90679.8  1.938694e+06   4.677365\n",
      "1     BR011    1.5T  20171101             NaN     54850.7  1.501525e+06   3.652999\n",
      "2     BR014    1.5T  20171115             NaN     56127.5  1.751151e+06   3.205177\n",
      "3     BR018    1.5T  20171218             NaN     48018.1  1.497690e+06   3.206143\n",
      "4     BR021    1.5T  20180124             NaN     66280.6  1.648492e+06   4.020681\n",
      "5     BR028    1.5T  20180409             NaN     59807.2  1.750047e+06   3.417462\n",
      "6     BR030    1.5T  20180412             NaN     42264.8  1.375327e+06   3.073073\n",
      "7     BR032    1.5T  20180601             NaN     43655.5  1.366247e+06   3.195286\n",
      "8     BR033    1.5T  20180628             NaN    112852.9  1.462864e+06   7.714518\n",
      "9    CL2017    1.5T  20170124             NaN    179079.7  2.819222e+06   6.352097\n",
      "10  LASH001    1.5T  20160111             NaN    110205.1  1.307516e+06   8.428583\n",
      "11  LASH002    1.5T  20160321             NaN    117992.1  1.375608e+06   8.577453\n",
      "12  LASH003    1.5T  20160413             NaN    117225.4  1.779136e+06   6.588895\n",
      "13  LASH004    1.5T  20160628             NaN    112332.6  1.871520e+06   6.002211\n",
      "14  LASH005    1.5T  20161025             NaN     82738.8  1.576904e+06   5.246915\n",
      "15  LASH007    1.5T  20170504             NaN    113285.7  1.542275e+06   7.345365\n",
      "16  LASH008    1.5T  20170822             NaN     75577.6  1.881816e+06   4.016206\n",
      "17  LASH013    1.5T  20171005             NaN     70904.3  1.463149e+06   4.846005\n",
      "18  LASH014    1.5T  20180301             NaN     67884.2  1.550885e+06   4.377126\n",
      "19  LASH015    1.5T  20180517             NaN    105626.6  1.499479e+06   7.044220\n",
      "20  LASH017    1.5T  20180426             NaN    125105.4  1.478513e+06   8.461569\n",
      "21  LASH018    1.5T  20180530             NaN    115290.7  1.580932e+06   7.292578\n",
      "22  LASH019    1.5T  20180605             NaN     41153.7  1.353210e+06   3.041192\n",
      "23   WH1003    1.5T  20160804             NaN     44877.8  1.349114e+06   3.326466\n",
      "24   WH1020    1.5T  20141124             NaN     95492.1  1.502151e+06   6.357025\n",
      "25   WH1069    1.5T  20160126             NaN     53641.9  1.613952e+06   3.323637\n",
      "26   WH1128    1.5T  20150611             NaN     84115.7  1.633067e+06   5.150781\n",
      "27   WH1128    1.5T  20111005             NaN     69647.4  1.513447e+06   4.601904\n",
      "28   WH1231    1.5T  20110421             NaN     55327.6  1.533251e+06   3.608516\n",
      "29   WH1231    1.5T  20111031             NaN     54432.1  1.672560e+06   3.254417\n",
      "30   WH1231    1.5T  20110317             NaN     55150.3  1.554166e+06   3.548547\n",
      "31   WH1231    1.5T  20110602             NaN     56229.2  1.589627e+06   3.537257\n",
      "32   WH1231    1.5T  20110707             NaN     51472.5  1.565922e+06   3.287040\n",
      "33   WH1231    1.5T  20110901             NaN     54211.5  1.647719e+06   3.290093\n",
      "34   WH1245    1.5T  20150409             NaN     51462.6  1.628407e+06   3.160303\n",
      "35   WH1246    1.5T  20110406             NaN     90989.9  1.959591e+06   4.643311\n",
      "36   WH1247    1.5T  20150318             NaN     50966.2  1.503789e+06   3.389187\n",
      "37   WH1250    1.5T  20110704             NaN    103667.9  1.787200e+06   5.800575\n",
      "38   WH1252    1.5T  20150630             NaN     84314.5  1.402212e+06   6.012966\n",
      "39   WH1252    1.5T  20110729             NaN     72063.0  1.586452e+06   4.542400\n",
      "40   WH1268    1.5T  20150119             NaN     53953.5  1.503386e+06   3.588800\n",
      "41   WH1274    1.5T  20110825             NaN     94475.8  1.707245e+06   5.533816\n",
      "42   WH1276    1.5T  20160504             NaN     60873.9  1.522461e+06   3.998387\n",
      "43   WH1283    1.5T  20110822             NaN     46331.3  1.439420e+06   3.218749\n",
      "44   WH1285    1.5T  20110818             NaN     67451.4  1.681840e+06   4.010572\n",
      "45   WH1296    1.5T  20120222             NaN     97152.0  1.573298e+06   6.175054\n",
      "46   WH1296    1.5T  20120321             NaN     95546.7  1.625403e+06   5.878339\n",
      "47   WH1296    1.5T  20150413             NaN    113887.7  1.552983e+06   7.333480\n",
      "48   WH1300    1.5T  20111004             NaN     81255.4  1.643186e+06   4.944990\n",
      "49   WH1307    1.5T  20110922             NaN     76218.8  1.866630e+06   4.083229\n",
      "50   WH1312    1.5T  20110928             NaN     74050.6  1.596478e+06   4.638373\n",
      "51   WH1316    1.5T  20110915             NaN     61122.8  1.674689e+06   3.649799\n",
      "52   WH1319    1.5T  20111013             NaN     66545.4  1.517881e+06   4.384099\n",
      "53   WH1325    1.5T  20150709             NaN     44269.2  1.283841e+06   3.448184\n",
      "54   WH1330    1.5T  20151023             NaN     56608.0  1.238719e+06   4.569884\n",
      "55   WH1330    1.5T  20111107             NaN     49959.1  1.340108e+06   3.727990\n",
      "56   WH1338    1.5T  20150826             NaN     47062.3  1.262895e+06   3.726541\n",
      "57   WH1342    1.5T  20150622             NaN     48357.6  1.366477e+06   3.538853\n",
      "58   WH1359    1.5T  20160524             NaN     42016.5  1.292106e+06   3.251784\n",
      "59   WH1370    1.5T  20120307             NaN     74034.0  1.470697e+06   5.033939\n",
      "60   WH1371    1.5T  20120224             NaN     47439.9  1.575795e+06   3.010537\n",
      "61   WH1372    1.5T  20150625             NaN     48819.7  1.530830e+06   3.189100\n",
      "62   WH1373    1.5T  20150622             NaN     46225.7  1.516999e+06   3.047180\n",
      "63   WH1376    1.5T  20150818             NaN     45219.3  1.274781e+06   3.547220\n",
      "64   WH1382    1.5T  20160413             NaN     54379.0  1.603481e+06   3.391308\n",
      "65   WH1406    1.5T  20150107             NaN     68543.7  1.524579e+06   4.495910\n",
      "66   WH1409    1.5T  20150115             NaN     83151.0  1.472842e+06   5.645615\n",
      "67   WH1420    1.5T  20150818             NaN    128534.5  1.617466e+06   7.946659\n",
      "68   WH1424    1.5T  20150902             NaN     41900.9  1.394406e+06   3.004928\n",
      "69   WH1428    1.5T  20150930             NaN     44788.9  1.298055e+06   3.450462\n",
      "70   WH1429    1.5T  20151023             NaN     52091.6  1.529028e+06   3.406845\n",
      "71   WH1429    1.5T  20141202             NaN     49379.6  1.457618e+06   3.387691\n",
      "72   WH1431    1.5T  20160119             NaN     51417.3  1.204779e+06   4.267777\n",
      "73   WH1432    1.5T  20151109             NaN     51261.7  1.230630e+06   4.165484\n",
      "74   WH1435    1.5T  20151210             NaN     63065.2  1.449988e+06   4.349360\n"
     ]
    }
   ],
   "source": [
    "base = '/home/ke/Desktop/NPH Files/15T_vents.xlsx'\n",
    "\n",
    "df = pd.read_excel(base, usecols=[0, 1, 2, 5, 6, 7, 8])\n",
    "df = df.sort_values('ID').reset_index(drop=True)\n",
    "with pd.option_context('display.max_rows', None, 'display.max_columns', None, 'display.expand_frame_repr', False):  # more options can be specified also\n",
    "    print(df)"
   ]
  },
  {
   "cell_type": "code",
   "execution_count": null,
   "metadata": {},
   "outputs": [],
   "source": []
  }
 ],
 "metadata": {
  "kernelspec": {
   "display_name": "Python 3",
   "language": "python",
   "name": "python3"
  },
  "language_info": {
   "codemirror_mode": {
    "name": "ipython",
    "version": 3
   },
   "file_extension": ".py",
   "mimetype": "text/x-python",
   "name": "python",
   "nbconvert_exporter": "python",
   "pygments_lexer": "ipython3",
   "version": "3.7.5"
  }
 },
 "nbformat": 4,
 "nbformat_minor": 2
}
