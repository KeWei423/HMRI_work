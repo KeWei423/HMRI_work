{
 "cells": [
  {
   "cell_type": "code",
   "execution_count": 593,
   "metadata": {},
   "outputs": [],
   "source": [
    "import os\n",
    "import pandas as pd"
   ]
  },
  {
   "cell_type": "code",
   "execution_count": 594,
   "metadata": {},
   "outputs": [],
   "source": [
    "def get_ID_and_loc(file_path):\n",
    "    pathsplit='_'.join(file_path.split('/')[1:]).split('_')\n",
    "    return [pathsplit[-2], pathsplit[-1]]"
   ]
  },
  {
   "cell_type": "code",
   "execution_count": 595,
   "metadata": {},
   "outputs": [],
   "source": [
    "def threeT_vs_15T(table_file_path):\n",
    "    df=pd.read_csv(table_file_path, error_bad_lines=False, skiprows=2, nrows=1, header=None, index_col=False)\n",
    "#     print(df.iloc[0,0])\n",
    "    if df.iloc[0, 0] == ' (Huntington MR Center)':\n",
    "        return \"1.5T\"\n",
    "    else:\n",
    "        return \"3T\""
   ]
  },
  {
   "cell_type": "code",
   "execution_count": 596,
   "metadata": {},
   "outputs": [],
   "source": [
    "def get_DOE(table_file_path):\n",
    "    df=pd.read_csv(table_file_path, sep=' +', engine='python', error_bad_lines=False, skiprows=1, nrows=1, header=None, index_col=False)\n",
    "    return df.iloc[0, 3]"
   ]
  },
  {
   "cell_type": "code",
   "execution_count": 597,
   "metadata": {},
   "outputs": [],
   "source": [
    "def table_to_row(df):\n",
    "    df_out = df.stack()\n",
    "    df_out.index = df_out.index.map('{0[0]}{0[1]}'.format)\n",
    "    return df_out.to_frame().T"
   ]
  },
  {
   "cell_type": "code",
   "execution_count": 598,
   "metadata": {},
   "outputs": [],
   "source": [
    "def read_table_file(dirpath, table_file_path):\n",
    "    #get ID and sample location from path\n",
    "    ID=get_ID_and_loc(dirpath)[0]\n",
    "    tissue=get_ID_and_loc(dirpath)[1]\n",
    "    \n",
    "    #get scanner info\n",
    "    scanner_T=threeT_vs_15T(table_file_path)\n",
    "    \n",
    "    #get Date of Exam\n",
    "    DOE=get_DOE(table_file_path)\n",
    "    \n",
    "    #get data \n",
    "    data=pd.read_csv(table_file_path,sep=' +', engine='python',error_bad_lines=False, skiprows=7, nrows=36)\n",
    "    data=data.set_index('Metabolite')\n",
    "    data=table_to_row(data)\n",
    "    \n",
    "    data['Scanner']=scanner_T\n",
    "    data['ID']=ID\n",
    "    data['Tissue']=tissue\n",
    "    data['DOE']=DOE\n",
    "    data=data.set_index('ID')\n",
    "    return data"
   ]
  },
  {
   "cell_type": "code",
   "execution_count": 615,
   "metadata": {},
   "outputs": [],
   "source": [
    "def main ():\n",
    "    dir='/Users/baymac/Desktop/BR samples'\n",
    "    \n",
    "    pattern='table'\n",
    "    exten='.csv'\n",
    "    \n",
    "    data_final=pd.DataFrame()\n",
    "    \n",
    "    #read MRS contents\n",
    "    for dirpath, subdirs, files in os.walk(dir):\n",
    "        for file in files:\n",
    "            if (pattern in file) and (len(file)==5):\n",
    "                #changae file format to csv\n",
    "                src=os.path.join(dirpath, file)\n",
    "                dst=os.path.join(dirpath, file+'.csv')\n",
    "                os.rename(src,dst)\n",
    "\n",
    "                #read file now\n",
    "                data=read_table_file(dirpath, dst)\n",
    "                data_final=data_final.append(data)\n",
    "            elif (pattern in file) and file.endswith('.csv'):\n",
    "                data=read_table_file(dirpath, os.path.join(dirpath,file))\n",
    "                data_final=data_final.append(data)\n",
    "                \n",
    "#     print(data_final)\n",
    "    data_final.to_csv(\"/Users/baymac/Desktop/MRS_test.csv\")\n",
    "    return"
   ]
  },
  {
   "cell_type": "code",
   "execution_count": 616,
   "metadata": {
    "scrolled": false
   },
   "outputs": [],
   "source": [
    "if __name__ == '__main__': main()"
   ]
  },
  {
   "cell_type": "code",
   "execution_count": null,
   "metadata": {},
   "outputs": [],
   "source": []
  }
 ],
 "metadata": {
  "kernelspec": {
   "display_name": "Python 3",
   "language": "python",
   "name": "python3"
  },
  "language_info": {
   "codemirror_mode": {
    "name": "ipython",
    "version": 3
   },
   "file_extension": ".py",
   "mimetype": "text/x-python",
   "name": "python",
   "nbconvert_exporter": "python",
   "pygments_lexer": "ipython3",
   "version": "3.7.2"
  }
 },
 "nbformat": 4,
 "nbformat_minor": 2
}
