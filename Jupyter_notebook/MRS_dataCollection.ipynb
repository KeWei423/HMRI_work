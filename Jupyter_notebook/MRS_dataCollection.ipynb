{
 "cells": [
  {
   "cell_type": "code",
   "execution_count": 60,
   "metadata": {},
   "outputs": [],
   "source": [
    "import os\n",
    "import pandas as pd"
   ]
  },
  {
   "cell_type": "code",
   "execution_count": 83,
   "metadata": {},
   "outputs": [],
   "source": [
    "def get_ID_and_loc(file_path):\n",
    "    pathsplit='_'.join(file_path.split('/')[1:]).split('_')\n",
    "    return [pathsplit[-2], pathsplit[-1]]"
   ]
  },
  {
   "cell_type": "code",
   "execution_count": 84,
   "metadata": {},
   "outputs": [],
   "source": [
    "def threeT_vs_15T(table_file_path):\n",
    "    df=pd.read_csv(table_file_path, error_bad_lines=False, skiprows=2, nrows=1, header=None, index_col=False)\n",
    "#     print(df.iloc[0,0])\n",
    "    if df.iloc[0, 0] == ' (Huntington MR Center)':\n",
    "        return \"1.5T\"\n",
    "    else:\n",
    "        return \"3T\""
   ]
  },
  {
   "cell_type": "code",
   "execution_count": 88,
   "metadata": {},
   "outputs": [],
   "source": [
    "def get_DOE(table_file_path):\n",
    "    df=pd.read_csv(table_file_path, sep=' +', engine='python', error_bad_lines=False, skiprows=1, nrows=1, header=None, index_col=False)\n",
    "    if df.iloc[0, 3] == 'presscsi':\n",
    "        return df.iloc[0, 1]\n",
    "    else:\n",
    "        return df.iloc[0, 3]\n",
    "    "
   ]
  },
  {
   "cell_type": "code",
   "execution_count": 89,
   "metadata": {},
   "outputs": [],
   "source": [
    "def table_to_row(df):\n",
    "    df_out = df.stack()\n",
    "    df_out.index = df_out.index.map('{0[0]}{0[1]}'.format)\n",
    "    return df_out.to_frame().T"
   ]
  },
  {
   "cell_type": "code",
   "execution_count": 90,
   "metadata": {},
   "outputs": [],
   "source": [
    "def read_table_file(dirpath, table_file_path):\n",
    "    print(\"file dir: \", table_file_path)\n",
    "    #get ID and sample location from path\n",
    "    try:\n",
    "#         print(\"dirpath: \",dirpath)\n",
    "        ID=get_ID_and_loc(dirpath)[0]\n",
    "#         print(\"ID: \",ID)\n",
    "        tissue=get_ID_and_loc(dirpath)[1]\n",
    "\n",
    "        #get scanner info\n",
    "        scanner_T=threeT_vs_15T(table_file_path)\n",
    "\n",
    "        #get Date of Exam\n",
    "        DOE=get_DOE(table_file_path)\n",
    "\n",
    "        #get data \n",
    "        data=pd.read_csv(table_file_path,sep=' +', engine='python',error_bad_lines=False, skiprows=7, nrows=36)\n",
    "        data=data.set_index('Metabolite')\n",
    "        data=table_to_row(data)\n",
    "\n",
    "        data['Scanner']=scanner_T\n",
    "        data['ID']=ID\n",
    "        data['Tissue']=tissue\n",
    "        data['DOE']=DOE\n",
    "        data=data.set_index('ID')\n",
    "        return data\n",
    "    except KeyError: \n",
    "        print(table_file_path)"
   ]
  },
  {
   "cell_type": "code",
   "execution_count": 91,
   "metadata": {},
   "outputs": [],
   "source": [
    "def main ():\n",
    "#     dir='/Users/baymac/Desktop/Data_todo/LCModel Processed Data/BR_1.5T'\n",
    "    dir='/Users/baymac/Desktop/Data_todo/LCModelProcessedData_KW/BR_3T'\n",
    "    \n",
    "    pattern='table'\n",
    "    exten='.csv'\n",
    "    \n",
    "    data_final=pd.DataFrame()\n",
    "    \n",
    "    #read MRS contents\n",
    "    for dirpath, subdirs, files in os.walk(dir):\n",
    "        for file in files:\n",
    "            if (pattern in file) and (len(file)==5):\n",
    "                #changae file format to csv\n",
    "                src=os.path.join(dirpath, file)\n",
    "                dst=os.path.join(dirpath, file+'.csv')\n",
    "                os.rename(src,dst)\n",
    "\n",
    "                #read file now\n",
    "                data=read_table_file(dirpath, dst)\n",
    "                data_final=data_final.append(data)\n",
    "            elif (pattern in file) and file.endswith('.csv'):\n",
    "                data=read_table_file(dirpath, os.path.join(dirpath,file))\n",
    "                data_final=data_final.append(data)\n",
    "                \n",
    "#     print(data_final)\n",
    "    data_final.to_csv(\"/Users/baymac/Desktop/MRS_BR3T.csv\")\n",
    "    return"
   ]
  },
  {
   "cell_type": "code",
   "execution_count": 92,
   "metadata": {
    "scrolled": false
   },
   "outputs": [
    {
     "name": "stdout",
     "output_type": "stream",
     "text": [
      "file dir:  /Users/baymac/Desktop/Data_todo/LCModelProcessedData_KW/BR_3T/BR035/GM/table.csv\n",
      "file dir:  /Users/baymac/Desktop/Data_todo/LCModelProcessedData_KW/BR_3T/BR032/FWM/table.csv\n",
      "file dir:  /Users/baymac/Desktop/Data_todo/LCModelProcessedData_KW/BR_3T/BR032/WM/table.csv\n",
      "file dir:  /Users/baymac/Desktop/Data_todo/LCModelProcessedData_KW/BR_3T/BR032/GM/table.csv\n",
      "file dir:  /Users/baymac/Desktop/Data_todo/LCModelProcessedData_KW/BR_3T/BR032/FGM/table.csv\n",
      "file dir:  /Users/baymac/Desktop/Data_todo/LCModelProcessedData_KW/BR_3T/BR033/PWM/table.csv\n",
      "file dir:  /Users/baymac/Desktop/Data_todo/LCModelProcessedData_KW/BR_3T/BR033/GM/table.csv\n",
      "file dir:  /Users/baymac/Desktop/Data_todo/LCModelProcessedData_KW/BR_3T/BR051/PWM/table.csv\n",
      "file dir:  /Users/baymac/Desktop/Data_todo/LCModelProcessedData_KW/BR_3T/BR051/GM/table.csv\n",
      "file dir:  /Users/baymac/Desktop/Data_todo/LCModelProcessedData_KW/BR_3T/BR042/FWM/table.csv\n",
      "file dir:  /Users/baymac/Desktop/Data_todo/LCModelProcessedData_KW/BR_3T/BR042/WM/table.csv\n",
      "file dir:  /Users/baymac/Desktop/Data_todo/LCModelProcessedData_KW/BR_3T/BR042/BG/table.csv\n",
      "file dir:  /Users/baymac/Desktop/Data_todo/LCModelProcessedData_KW/BR_3T/BR042/GM/table.csv\n",
      "file dir:  /Users/baymac/Desktop/Data_todo/LCModelProcessedData_KW/BR_3T/BR042/FGM/table.csv\n",
      "file dir:  /Users/baymac/Desktop/Data_todo/LCModelProcessedData_KW/BR_3T/BR027/2018WM/table.csv\n",
      "file dir:  /Users/baymac/Desktop/Data_todo/LCModelProcessedData_KW/BR_3T/BR027/2018GM/table.csv\n",
      "file dir:  /Users/baymac/Desktop/Data_todo/LCModelProcessedData_KW/BR_3T/BR018/2017GM/table.csv\n"
     ]
    },
    {
     "name": "stderr",
     "output_type": "stream",
     "text": [
      "/Library/Frameworks/Python.framework/Versions/3.7/lib/python3.7/site-packages/pandas/core/frame.py:6211: FutureWarning: Sorting because non-concatenation axis is not aligned. A future version\n",
      "of pandas will change to not sort by default.\n",
      "\n",
      "To accept the future behavior, pass 'sort=False'.\n",
      "\n",
      "To retain the current behavior and silence the warning, pass 'sort=True'.\n",
      "\n",
      "  sort=sort)\n"
     ]
    },
    {
     "name": "stdout",
     "output_type": "stream",
     "text": [
      "file dir:  /Users/baymac/Desktop/Data_todo/LCModelProcessedData_KW/BR_3T/BR018/2019GM/table.csv\n",
      "file dir:  /Users/baymac/Desktop/Data_todo/LCModelProcessedData_KW/BR_3T/BR018/2019FGM/table.csv\n",
      "file dir:  /Users/baymac/Desktop/Data_todo/LCModelProcessedData_KW/BR_3T/BR018/2019WM/table.csv\n",
      "file dir:  /Users/baymac/Desktop/Data_todo/LCModelProcessedData_KW/BR_3T/BR018/2017WM/table.csv\n",
      "file dir:  /Users/baymac/Desktop/Data_todo/LCModelProcessedData_KW/BR_3T/BR020/WM/table.csv\n",
      "file dir:  /Users/baymac/Desktop/Data_todo/LCModelProcessedData_KW/BR_3T/BR020/GM/table.csv\n",
      "file dir:  /Users/baymac/Desktop/Data_todo/LCModelProcessedData_KW/BR_3T/BR029/WM/table.csv\n",
      "file dir:  /Users/baymac/Desktop/Data_todo/LCModelProcessedData_KW/BR_3T/BR029/GM/table.csv\n",
      "file dir:  /Users/baymac/Desktop/Data_todo/LCModelProcessedData_KW/BR_3T/BR011/2017GM/table.csv\n",
      "file dir:  /Users/baymac/Desktop/Data_todo/LCModelProcessedData_KW/BR_3T/BR011/2019GM/table.csv\n",
      "file dir:  /Users/baymac/Desktop/Data_todo/LCModelProcessedData_KW/BR_3T/BR011/2019FGM/table.csv\n",
      "file dir:  /Users/baymac/Desktop/Data_todo/LCModelProcessedData_KW/BR_3T/BR011/2019WM/table.csv\n",
      "file dir:  /Users/baymac/Desktop/Data_todo/LCModelProcessedData_KW/BR_3T/BR011/2017WM/table.csv\n",
      "file dir:  /Users/baymac/Desktop/Data_todo/LCModelProcessedData_KW/BR_3T/BR043/13Dec2019 PWM/table.csv\n",
      "file dir:  /Users/baymac/Desktop/Data_todo/LCModelProcessedData_KW/BR_3T/BR043/05Feb2019FGM/table.csv\n",
      "file dir:  /Users/baymac/Desktop/Data_todo/LCModelProcessedData_KW/BR_3T/BR043/05Feb2019GM/table.csv\n",
      "file dir:  /Users/baymac/Desktop/Data_todo/LCModelProcessedData_KW/BR_3T/BR043/05Feb2019FWM/table.csv\n",
      "file dir:  /Users/baymac/Desktop/Data_todo/LCModelProcessedData_KW/BR_3T/BR043/05Feb2019WM/table.csv\n",
      "file dir:  /Users/baymac/Desktop/Data_todo/LCModelProcessedData_KW/BR_3T/BR043/13Dec2019 GM/table.csv\n",
      "file dir:  /Users/baymac/Desktop/Data_todo/LCModelProcessedData_KW/BR_3T/BR044/FWM/table.csv\n",
      "file dir:  /Users/baymac/Desktop/Data_todo/LCModelProcessedData_KW/BR_3T/BR044/WM/table.csv\n",
      "file dir:  /Users/baymac/Desktop/Data_todo/LCModelProcessedData_KW/BR_3T/BR044/BG/table.csv\n",
      "file dir:  /Users/baymac/Desktop/Data_todo/LCModelProcessedData_KW/BR_3T/BR044/GM/table.csv\n",
      "file dir:  /Users/baymac/Desktop/Data_todo/LCModelProcessedData_KW/BR_3T/BR044/FGM/table.csv\n",
      "file dir:  /Users/baymac/Desktop/Data_todo/LCModelProcessedData_KW/BR_3T/BR021/WM/table.csv\n",
      "file dir:  /Users/baymac/Desktop/Data_todo/LCModelProcessedData_KW/BR_3T/BR021/GM/table.csv\n",
      "file dir:  /Users/baymac/Desktop/Data_todo/LCModelProcessedData_KW/BR_3T/BR026/WM/table.csv\n",
      "file dir:  /Users/baymac/Desktop/Data_todo/LCModelProcessedData_KW/BR_3T/BR026/GM/table.csv\n",
      "file dir:  /Users/baymac/Desktop/Data_todo/LCModelProcessedData_KW/BR_3T/BR019/PWM/table.csv\n",
      "file dir:  /Users/baymac/Desktop/Data_todo/LCModelProcessedData_KW/BR_3T/BR019/GM/table.csv\n",
      "file dir:  /Users/baymac/Desktop/Data_todo/LCModelProcessedData_KW/BR_3T/BR038/2018WM/table.csv\n",
      "file dir:  /Users/baymac/Desktop/Data_todo/LCModelProcessedData_KW/BR_3T/BR038/2018FWM/table.csv\n",
      "file dir:  /Users/baymac/Desktop/Data_todo/LCModelProcessedData_KW/BR_3T/BR038/2019GM/table.csv\n",
      "file dir:  /Users/baymac/Desktop/Data_todo/LCModelProcessedData_KW/BR_3T/BR038/2019FGM/table.csv\n",
      "file dir:  /Users/baymac/Desktop/Data_todo/LCModelProcessedData_KW/BR_3T/BR038/2019WM/table.csv\n",
      "file dir:  /Users/baymac/Desktop/Data_todo/LCModelProcessedData_KW/BR_3T/BR038/2018GM/table.csv\n",
      "file dir:  /Users/baymac/Desktop/Data_todo/LCModelProcessedData_KW/BR_3T/BR038/2018FGM/table.csv\n",
      "file dir:  /Users/baymac/Desktop/Data_todo/LCModelProcessedData_KW/BR_3T/BR007/WM/table.csv\n",
      "file dir:  /Users/baymac/Desktop/Data_todo/LCModelProcessedData_KW/BR_3T/BR007/GM/table.csv\n",
      "file dir:  /Users/baymac/Desktop/Data_todo/LCModelProcessedData_KW/BR_3T/BR031/WM/table.csv\n",
      "file dir:  /Users/baymac/Desktop/Data_todo/LCModelProcessedData_KW/BR_3T/BR031/GM/table.csv\n",
      "file dir:  /Users/baymac/Desktop/Data_todo/LCModelProcessedData_KW/BR_3T/BR052/PWM/table.csv\n",
      "file dir:  /Users/baymac/Desktop/Data_todo/LCModelProcessedData_KW/BR_3T/BR052/GM/table.csv\n",
      "file dir:  /Users/baymac/Desktop/Data_todo/LCModelProcessedData_KW/BR_3T/BR037/FWM/table.csv\n",
      "file dir:  /Users/baymac/Desktop/Data_todo/LCModelProcessedData_KW/BR_3T/BR037/WM/table.csv\n",
      "file dir:  /Users/baymac/Desktop/Data_todo/LCModelProcessedData_KW/BR_3T/BR037/GM/table.csv\n",
      "file dir:  /Users/baymac/Desktop/Data_todo/LCModelProcessedData_KW/BR_3T/BR037/FGM/table.csv\n",
      "file dir:  /Users/baymac/Desktop/Data_todo/LCModelProcessedData_KW/BR_3T/BR030/2018WM/table.csv\n",
      "file dir:  /Users/baymac/Desktop/Data_todo/LCModelProcessedData_KW/BR_3T/BR030/2018GM/table.csv\n",
      "file dir:  /Users/baymac/Desktop/Data_todo/LCModelProcessedData_KW/BR_3T/BR039/FWM/table.csv\n",
      "file dir:  /Users/baymac/Desktop/Data_todo/LCModelProcessedData_KW/BR_3T/BR039/WM/table.csv\n",
      "file dir:  /Users/baymac/Desktop/Data_todo/LCModelProcessedData_KW/BR_3T/BR039/BG/table.csv\n",
      "file dir:  /Users/baymac/Desktop/Data_todo/LCModelProcessedData_KW/BR_3T/BR039/GM/table.csv\n",
      "file dir:  /Users/baymac/Desktop/Data_todo/LCModelProcessedData_KW/BR_3T/BR039/FGM/table.csv\n",
      "file dir:  /Users/baymac/Desktop/Data_todo/LCModelProcessedData_KW/BR_3T/BR006/WM/table.csv\n",
      "file dir:  /Users/baymac/Desktop/Data_todo/LCModelProcessedData_KW/BR_3T/BR006/GM/table.csv\n",
      "file dir:  /Users/baymac/Desktop/Data_todo/LCModelProcessedData_KW/BR_3T/BR006/FGM/table.csv\n",
      "file dir:  /Users/baymac/Desktop/Data_todo/LCModelProcessedData_KW/BR_3T/BR023/2018WM/table.csv\n",
      "file dir:  /Users/baymac/Desktop/Data_todo/LCModelProcessedData_KW/BR_3T/BR023/2019GM/table.csv\n",
      "file dir:  /Users/baymac/Desktop/Data_todo/LCModelProcessedData_KW/BR_3T/BR023/2019WM/table.csv\n",
      "file dir:  /Users/baymac/Desktop/Data_todo/LCModelProcessedData_KW/BR_3T/BR023/2018GM/table.csv\n",
      "file dir:  /Users/baymac/Desktop/Data_todo/LCModelProcessedData_KW/BR_3T/BR024/2018WM/table.csv\n",
      "file dir:  /Users/baymac/Desktop/Data_todo/LCModelProcessedData_KW/BR_3T/BR024/2019GM/table.csv\n",
      "file dir:  /Users/baymac/Desktop/Data_todo/LCModelProcessedData_KW/BR_3T/BR024/2019WM/table.csv\n",
      "file dir:  /Users/baymac/Desktop/Data_todo/LCModelProcessedData_KW/BR_3T/BR024/2018GM/table.csv\n",
      "file dir:  /Users/baymac/Desktop/Data_todo/LCModelProcessedData_KW/BR_3T/BR012/WM/table.csv\n",
      "file dir:  /Users/baymac/Desktop/Data_todo/LCModelProcessedData_KW/BR_3T/BR012/GM/table.csv\n",
      "file dir:  /Users/baymac/Desktop/Data_todo/LCModelProcessedData_KW/BR_3T/BR015/2017GM/table.csv\n",
      "file dir:  /Users/baymac/Desktop/Data_todo/LCModelProcessedData_KW/BR_3T/BR015/2018WM/table.csv\n",
      "file dir:  /Users/baymac/Desktop/Data_todo/LCModelProcessedData_KW/BR_3T/BR015/2017WM/table.csv\n",
      "file dir:  /Users/baymac/Desktop/Data_todo/LCModelProcessedData_KW/BR_3T/BR015/2018GM/table.csv\n",
      "file dir:  /Users/baymac/Desktop/Data_todo/LCModelProcessedData_KW/BR_3T/BR015/2018FGM/table.csv\n",
      "file dir:  /Users/baymac/Desktop/Data_todo/LCModelProcessedData_KW/BR_3T/BR046/GM/table.csv\n",
      "file dir:  /Users/baymac/Desktop/Data_todo/LCModelProcessedData_KW/BR_3T/Br048/GM/table.csv\n",
      "file dir:  /Users/baymac/Desktop/Data_todo/LCModelProcessedData_KW/BR_3T/BR014/2017GM/table.csv\n",
      "file dir:  /Users/baymac/Desktop/Data_todo/LCModelProcessedData_KW/BR_3T/BR014/2018WM/table.csv\n",
      "file dir:  /Users/baymac/Desktop/Data_todo/LCModelProcessedData_KW/BR_3T/BR014/Gaba1/table.csv\n",
      "file dir:  /Users/baymac/Desktop/Data_todo/LCModelProcessedData_KW/BR_3T/BR014/2017WM/table.csv\n",
      "file dir:  /Users/baymac/Desktop/Data_todo/LCModelProcessedData_KW/BR_3T/BR014/2018GM/table.csv\n",
      "file dir:  /Users/baymac/Desktop/Data_todo/LCModelProcessedData_KW/BR_3T/BR014/2018FGM/table.csv\n",
      "file dir:  /Users/baymac/Desktop/Data_todo/LCModelProcessedData_KW/BR_3T/BR013/2019FWM/table.csv\n",
      "file dir:  /Users/baymac/Desktop/Data_todo/LCModelProcessedData_KW/BR_3T/BR013/2017GM/table.csv\n",
      "file dir:  /Users/baymac/Desktop/Data_todo/LCModelProcessedData_KW/BR_3T/BR013/2019GM/table.csv\n",
      "file dir:  /Users/baymac/Desktop/Data_todo/LCModelProcessedData_KW/BR_3T/BR013/2019FGM/table.csv\n",
      "file dir:  /Users/baymac/Desktop/Data_todo/LCModelProcessedData_KW/BR_3T/BR013/2019WM/table.csv\n",
      "file dir:  /Users/baymac/Desktop/Data_todo/LCModelProcessedData_KW/BR_3T/BR013/2017WM/table.csv\n",
      "file dir:  /Users/baymac/Desktop/Data_todo/LCModelProcessedData_KW/BR_3T/BR025/WM/table.csv\n",
      "file dir:  /Users/baymac/Desktop/Data_todo/LCModelProcessedData_KW/BR_3T/BR025/GM/table.csv\n",
      "file dir:  /Users/baymac/Desktop/Data_todo/LCModelProcessedData_KW/BR_3T/BR022/WM/table.csv\n",
      "file dir:  /Users/baymac/Desktop/Data_todo/LCModelProcessedData_KW/BR_3T/BR022/GM/table.csv\n",
      "file dir:  /Users/baymac/Desktop/Data_todo/LCModelProcessedData_KW/BR_3T/BR049/PWM/table.csv\n",
      "file dir:  /Users/baymac/Desktop/Data_todo/LCModelProcessedData_KW/BR_3T/BR049/GM/table.csv\n",
      "file dir:  /Users/baymac/Desktop/Data_todo/LCModelProcessedData_KW/BR_3T/BR049/FGM/table.csv\n",
      "file dir:  /Users/baymac/Desktop/Data_todo/LCModelProcessedData_KW/BR_3T/BR047/WM/table.csv\n"
     ]
    },
    {
     "name": "stdout",
     "output_type": "stream",
     "text": [
      "file dir:  /Users/baymac/Desktop/Data_todo/LCModelProcessedData_KW/BR_3T/BR047/GMTE144/table.csv\n",
      "file dir:  /Users/baymac/Desktop/Data_todo/LCModelProcessedData_KW/BR_3T/BR047/GM/table.csv\n",
      "file dir:  /Users/baymac/Desktop/Data_todo/LCModelProcessedData_KW/BR_3T/BR047/GMTR2000/table.csv\n",
      "file dir:  /Users/baymac/Desktop/Data_todo/LCModelProcessedData_KW/BR_3T/BR040/FWM/table.csv\n",
      "file dir:  /Users/baymac/Desktop/Data_todo/LCModelProcessedData_KW/BR_3T/BR040/WM/table.csv\n",
      "file dir:  /Users/baymac/Desktop/Data_todo/LCModelProcessedData_KW/BR_3T/BR040/BG/table.csv\n",
      "file dir:  /Users/baymac/Desktop/Data_todo/LCModelProcessedData_KW/BR_3T/BR040/GM/table.csv\n",
      "file dir:  /Users/baymac/Desktop/Data_todo/LCModelProcessedData_KW/BR_3T/BR040/FGM/table.csv\n"
     ]
    },
    {
     "name": "stderr",
     "output_type": "stream",
     "text": [
      "Skipping line 43: Expected 4 fields in line 43, saw 8. Error could possibly be due to quotes being ignored when a multi-char delimiter is used.\n",
      "Skipping line 44: Expected 4 fields in line 44, saw 7. Error could possibly be due to quotes being ignored when a multi-char delimiter is used.\n"
     ]
    }
   ],
   "source": [
    "if __name__ == '__main__': main()"
   ]
  },
  {
   "cell_type": "code",
   "execution_count": null,
   "metadata": {},
   "outputs": [],
   "source": []
  }
 ],
 "metadata": {
  "kernelspec": {
   "display_name": "Python 3",
   "language": "python",
   "name": "python3"
  },
  "language_info": {
   "codemirror_mode": {
    "name": "ipython",
    "version": 3
   },
   "file_extension": ".py",
   "mimetype": "text/x-python",
   "name": "python",
   "nbconvert_exporter": "python",
   "pygments_lexer": "ipython3",
   "version": "3.7.2"
  }
 },
 "nbformat": 4,
 "nbformat_minor": 2
}
