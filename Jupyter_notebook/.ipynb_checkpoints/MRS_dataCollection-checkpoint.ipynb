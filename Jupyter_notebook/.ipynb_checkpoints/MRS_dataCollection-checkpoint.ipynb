{
 "cells": [
  {
   "cell_type": "code",
   "execution_count": 421,
   "metadata": {},
   "outputs": [],
   "source": [
    "import os\n",
    "import pandas as pd"
   ]
  },
  {
   "cell_type": "code",
   "execution_count": 495,
   "metadata": {},
   "outputs": [],
   "source": [
    "def get_ID_and_loc(file_path):\n",
    "    pathsplit='_'.join(file_path.split('/')[1:]).split('_')\n",
    "#     print(pathsplit[-2])\n",
    "    return [pathsplit[-2], pathsplit[-1]]"
   ]
  },
  {
   "cell_type": "code",
   "execution_count": 490,
   "metadata": {},
   "outputs": [],
   "source": [
    "def threeT_vs_15T(table_file_path):\n",
    "    df=pd.read_csv(table_file_path, error_bad_lines=False, skiprows=2, nrows=1, header=None, index_col=False)\n",
    "#     print(df.iloc[0,0])\n",
    "    if df.iloc[0, 0] == ' (Huntington MR Center)':\n",
    "        return \"1.5T\"\n",
    "    else:\n",
    "        return \"3T\""
   ]
  },
  {
   "cell_type": "code",
   "execution_count": 491,
   "metadata": {},
   "outputs": [],
   "source": [
    "def table_to_row(df):\n",
    "#     print(df.shape[0])\n",
    "    df_out = df.stack()\n",
    "    df_out.index = df_out.index.map('{0[0]}{0[1]}'.format)\n",
    "    return df_out.to_frame().T"
   ]
  },
  {
   "cell_type": "code",
   "execution_count": 492,
   "metadata": {},
   "outputs": [],
   "source": [
    "def read_table_file(table_file_path):\n",
    "    \n",
    "    #get scanner info\n",
    "    scanner_T=threeT_vs_15T(table_file_path)\n",
    "#     print(scanner_T)\n",
    "    \n",
    "    #get data \n",
    "    data=pd.read_csv(table_file_path,sep=' +', engine='python',error_bad_lines=False, skiprows=7, nrows=36)\n",
    "    data=data.set_index('Metabolite')\n",
    "#     print(df.columns.values[0].split(' '))\n",
    "    data=table_to_row(data)\n",
    "    data['Scanner']=scanner_T\n",
    "    \n",
    "#     print(data)\n",
    "    \n",
    "    return"
   ]
  },
  {
   "cell_type": "code",
   "execution_count": 498,
   "metadata": {},
   "outputs": [],
   "source": [
    "def main ():\n",
    "    \n",
    "#     dir=input(\"workdir: \")\n",
    "    dir='/Users/baymac/Desktop/BRsamples'\n",
    "    \n",
    "    pattern='table'\n",
    "    exten='.csv'\n",
    "    \n",
    "    #read MRS contents\n",
    "    for dirpath, subdirs, files in os.walk(dir):\n",
    "        for file in files:\n",
    "            if (pattern in file) and (len(file)==5):\n",
    "                # get data from path\n",
    "#                 ID, tissue=get_ID_and_loc(dirpath)\n",
    "                # get data from file\n",
    "                ID=get_ID_and_loc(dirpath)[0]\n",
    "                tissue=get_ID_and_loc(dirpath)[1]\n",
    "                src=os.path.join(dirpath, file)\n",
    "                dst=os.path.join(dirpath, file+'.csv')\n",
    "                os.rename(src,dst)\n",
    "                read_table_file(dst)\n",
    "            elif (pattern in file) and file.endswith('.csv'):\n",
    "                ID=get_ID_and_loc(dirpath)[0]\n",
    "                tissue=get_ID_and_loc(dirpath)[1]\n",
    "                read_table_file(os.path.join(dirpath,file))\n",
    "    return"
   ]
  },
  {
   "cell_type": "code",
   "execution_count": 499,
   "metadata": {
    "scrolled": false
   },
   "outputs": [
    {
     "name": "stdout",
     "output_type": "stream",
     "text": [
      "BR007\n",
      "GM2\n",
      "BR007\n",
      "WM\n",
      "BR007\n",
      "GM1\n",
      "BR006\n",
      "WM\n",
      "BR006\n",
      "GM\n"
     ]
    }
   ],
   "source": [
    "if __name__ == '__main__': main()"
   ]
  },
  {
   "cell_type": "code",
   "execution_count": null,
   "metadata": {},
   "outputs": [],
   "source": []
  }
 ],
 "metadata": {
  "kernelspec": {
   "display_name": "Python 3",
   "language": "python",
   "name": "python3"
  },
  "language_info": {
   "codemirror_mode": {
    "name": "ipython",
    "version": 3
   },
   "file_extension": ".py",
   "mimetype": "text/x-python",
   "name": "python",
   "nbconvert_exporter": "python",
   "pygments_lexer": "ipython3",
   "version": "3.7.2"
  }
 },
 "nbformat": 4,
 "nbformat_minor": 2
}
