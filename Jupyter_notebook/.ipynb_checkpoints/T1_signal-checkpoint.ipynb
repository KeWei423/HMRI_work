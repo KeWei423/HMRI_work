{
 "cells": [
  {
   "cell_type": "code",
   "execution_count": 1,
   "metadata": {},
   "outputs": [],
   "source": [
    "import os\n",
    "from datascience import *\n",
    "import numpy as np\n",
    "\n",
    "import matplotlib.pyplot as plots\n",
    "from mpl_toolkits.mplot3d import Axes3D\n",
    "plots.style.use('fivethirtyeight')\n",
    "%matplotlib inline"
   ]
  },
  {
   "cell_type": "code",
   "execution_count": 5,
   "metadata": {},
   "outputs": [],
   "source": [
    "# import all files into 1 dictionary and conver that into a table\n",
    "def create_database(path=os.getcwd()):\n",
    "    subjects_dict={}\n",
    "    for filename in os.listdir(path):\n",
    "        if filename.endswith(\".txt\"):\n",
    "            print(\"filename: \", filename)\n",
    "            \n",
    "            #get ID of file\n",
    "            ID=filename.split(\"_\")[0]\n",
    "            print(\"ID: \",ID)\n",
    "            \n",
    "            file_path=os.path.join(path, filename)\n",
    "            f = open(file_path)\n",
    "            lines = f.read()\n",
    "            \n",
    "            if not len(lines)==0 :\n",
    "                values = lines.replace(\"  \\n\",\"\").split(\"  \\t\")\n",
    "                numb_values = [float(numb) for numb in values] \n",
    "#                 print(numb_values)\n",
    "                subjects_dict[ID]=numb_values\n",
    "            else:\n",
    "#                 subjects_dict[ID]=[]\n",
    "                continue\n",
    "        else:\n",
    "            continue\n",
    "    return subjects_dict\n",
    "\n",
    "data = create_database()"
   ]
  },
  {
   "cell_type": "code",
   "execution_count": 3,
   "metadata": {},
   "outputs": [],
   "source": [
    "def make_study_table(data_dict):\n",
    "    title=[\"ID\", \"Cerebral_WM\", \"Cerebral_cortex\", \"Cerebellum_WM\", \"Cerebellum_cortex\",\n",
    "           \"Caudate\", \"Putamen\",\"globus_pallidus\",\"Brain_stem\", \"Class\"]\n",
    "    study_table=Table(title)\n",
    "    for key, values in data_dict.items():\n",
    "        row=[key]\n",
    "        row.extend(values)\n",
    "        if key.startswith(\"BR\"):\n",
    "            row.append(0)\n",
    "        else:\n",
    "            row.append(1)\n",
    "        study_table=study_table.with_row(row)\n",
    "    return study_table"
   ]
  },
  {
   "cell_type": "code",
   "execution_count": 4,
   "metadata": {},
   "outputs": [
    {
     "name": "stdout",
     "output_type": "stream",
     "text": [
      "filename:  WH1625_20171009.txt\n",
      "ID:  WH1625\n"
     ]
    },
    {
     "ename": "ValueError",
     "evalue": "could not convert string to float: '# Title Segmentation Statistics \\n# \\n# generating_program mri_segstats\\n# cvs_version $Id: mri_segstats.c,v 1.121 2016/05/31 17:27:11 greve Exp $\\n# cmdline mri_segstats --seg /Applications/freesurfer/subjects/WH1625_20171009/mri/aseg.mgz --ctab /Applications/freesurfer/FreeSurferColorLUT.txt --nonempty --exclude 0 --sum /Users/baymac/Desktop/Data_todo/Result/WH1625_20171009.txt --in /Applications/freesurfer/subjects/WH1625_20171009/mri/brain.mgz \\n# sysname  Darwin\\n# hostname baymac-iMac.local\\n# machine  x86_64\\n# user     baymac\\n# anatomy_type volume\\n# \\n# SegVolFile /Applications/freesurfer/subjects/WH1625_20171009/mri/aseg.mgz \\n# SegVolFileTimeStamp  2020/02/13 14:59:21 \\n# ColorTable /Applications/freesurfer/FreeSurferColorLUT.txt \\n# ColorTableTimeStamp 2019/10/30 15:03:05 \\n# InVolFile  /Applications/freesurfer/subjects/WH1625_20171009/mri/brain.mgz \\n# InVolFileTimeStamp  2020/02/13 14:59:20 \\n# InVolFrame 0 \\n# ExcludeSegId 0 \\n# Only reporting non-empty segmentations\\n# VoxelVolume_mm3 1 \\n# TableCol  1 ColHeader Index \\n# TableCol  1 FieldName Index \\n# TableCol  1 Units     NA \\n# TableCol  2 ColHeader SegId \\n# TableCol  2 FieldName Segmentation Id\\n# TableCol  2 Units     NA\\n# TableCol  3 ColHeader NVoxels \\n# TableCol  3 FieldName Number of Voxels\\n# TableCol  3 Units     unitless\\n# TableCol  4 ColHeader Volume_mm3\\n# TableCol  4 FieldName Volume\\n# TableCol  4 Units     mm^3\\n# TableCol  5 ColHeader StructName\\n# TableCol  5 FieldName Structure Name\\n# TableCol  5 Units     NA\\n# TableCol  6 ColHeader Mean \\n# TableCol  6 FieldName Intensity Mean\\n# TableCol  6 Units     unknown\\n# TableCol  7 ColHeader StdDev\\n# TableCol  7 FieldName Itensity StdDev\\n# TableCol  7 Units     unknown\\n# TableCol  8 ColHeader Min\\n# TableCol  8 FieldName Intensity Min\\n# TableCol  8 Units     unknown\\n# TableCol  9 ColHeader Max\\n# TableCol  9 FieldName Intensity Max\\n# TableCol  9 Units     unknown\\n# TableCol 10 ColHeader Range\\n# TableCol 10 FieldName Intensity Range\\n# TableCol 10 Units     unknown\\n# NRows 43 \\n# NTableCols 10 \\n# ColHeaders  Index SegId NVoxels Volume_mm3 StructName Mean StdDev Min Max Range  1   2    249736   249736.0  Left-Cerebral-White-Matter       103.7091     7.8681    19.0000   142.0000   123.0000 \\n  2   3    224238   224238.0  Left-Cerebral-Cortex              74.0879    10.4993    24.0000   123.0000    99.0000 \\n  3   4     13902    13902.0  Left-Lateral-Ventricle            31.0955    12.2885     9.0000    98.0000    89.0000 \\n  4   5       820      820.0  Left-Inf-Lat-Vent                 44.3817    16.7687     7.0000    89.0000    82.0000 \\n  5   7     16494    16494.0  Left-Cerebellum-White-Matter     101.4687    10.1101    35.0000   127.0000    92.0000 \\n  6   8     55233    55233.0  Left-Cerebellum-Cortex            70.4264    13.4794    11.0000   110.0000    99.0000 \\n  7  10      7914     7914.0  Left-Thalamus-Proper             100.4925    12.5776    31.0000   123.0000    92.0000 \\n  8  11      4293     4293.0  Left-Caudate                      83.6557    10.2469    50.0000   114.0000    64.0000 \\n  9  12      5647     5647.0  Left-Putamen                      95.9954    10.0916    69.0000   111.0000    42.0000 \\n 10  13      2270     2270.0  Left-Pallidum                    103.4943     8.3898    63.0000   117.0000    54.0000 \\n 11  14      1355     1355.0  3rd-Ventricle                     39.0221    12.1202    18.0000    92.0000    74.0000 \\n 12  15      1778     1778.0  4th-Ventricle                     41.4095    12.4660    21.0000    90.0000    69.0000 \\n 13  16     19755    19755.0  Brain-Stem                        99.6050    11.9490    21.0000   127.0000   106.0000 \\n 14  17      4390     4390.0  Left-Hippocampus                  76.0948    10.6340    28.0000   110.0000    82.0000 \\n 15  18      1343     1343.0  Left-Amygdala                     78.3596     7.5092    45.0000   101.0000    56.0000 \\n 16  24      1093     1093.0  CSF                               55.8362    14.6401    22.0000   110.0000    88.0000 \\n 17  26       404      404.0  Left-Accumbens-area               79.7426     6.5472    45.0000    96.0000    51.0000 \\n 18  28      4352     4352.0  Left-VentralDC                   101.9828    13.0213    37.0000   124.0000    87.0000 \\n 19  30         2        2.0  Left-vessel                       64.5000     6.3640    60.0000    69.0000     9.0000 \\n 20  31       851      851.0  Left-choroid-plexus               57.6604    11.9682    23.0000    93.0000    70.0000 \\n 21  41    247089   247089.0  Right-Cerebral-White-Matter      103.9059     7.6304    19.0000   133.0000   114.0000 \\n 22  42    224705   224705.0  Right-Cerebral-Cortex             74.6238    10.2544    27.0000   115.0000    88.0000 \\n 23  43     13032    13032.0  Right-Lateral-Ventricle           31.5589    12.5348    11.0000    90.0000    79.0000 \\n 24  44       756      756.0  Right-Inf-Lat-Vent                43.0926    14.8065    16.0000    87.0000    71.0000 \\n 25  46     16338    16338.0  Right-Cerebellum-White-Matter     99.5284     9.9675    29.0000   124.0000    95.0000 \\n 26  47     56032    56032.0  Right-Cerebellum-Cortex           68.2801    14.0687    16.0000   107.0000    91.0000 \\n 27  49      6789     6789.0  Right-Thalamus-Proper            100.0233    11.9878    40.0000   121.0000    81.0000 \\n 28  50      4227     4227.0  Right-Caudate                     80.4093    10.1755    32.0000   108.0000    76.0000 \\n 29  51      5290     5290.0  Right-Putamen                     91.8624     6.9809    54.0000   111.0000    57.0000 \\n 30  52      2461     2461.0  Right-Pallidum                   102.5173     8.3555    67.0000   117.0000    50.0000 \\n 31  53      4275     4275.0  Right-Hippocampus                 77.9319     9.5429    37.0000   111.0000    74.0000 \\n 32  54      1670     1670.0  Right-Amygdala                    79.4311     7.2791    51.0000   103.0000    52.0000 \\n 33  58       412      412.0  Right-Accumbens-area              81.2306     5.9868    51.0000    96.0000    45.0000 \\n 34  60      3927     3927.0  Right-VentralDC                   98.6534    15.2117    38.0000   126.0000    88.0000 \\n 35  62         4        4.0  Right-vessel                      69.0000     3.7417    64.0000    73.0000     9.0000 \\n 36  63       916      916.0  Right-choroid-plexus              58.3668    11.6273    28.0000    87.0000    59.0000 \\n 37  77      2795     2795.0  WM-hypointensities                75.0590    12.6983    45.0000   111.0000    66.0000 \\n 38  85       191      191.0  Optic-Chiasm                      89.2932    19.9264    39.0000   123.0000    84.0000 \\n 39 251      1428     1428.0  CC_Posterior                      96.9384    20.1438    35.0000   137.0000   102.0000 \\n 40 252       816      816.0  CC_Mid_Posterior                  88.1409    23.4770    35.0000   135.0000   100.0000 \\n 41 253      1111     1111.0  CC_Central                        91.6454    23.7857    26.0000   137.0000   111.0000 \\n 42 254      1096     1096.0  CC_Mid_Anterior                   86.0228    22.6853    27.0000   132.0000   105.0000 \\n 43 255      1176     1176.0  CC_Anterior                       88.0808    29.1782    19.0000   142.0000   123.0000 \\n'",
     "output_type": "error",
     "traceback": [
      "\u001b[0;31m---------------------------------------------------------------------------\u001b[0m",
      "\u001b[0;31mValueError\u001b[0m                                Traceback (most recent call last)",
      "\u001b[0;32m<ipython-input-4-b4d831be24f0>\u001b[0m in \u001b[0;36m<module>\u001b[0;34m\u001b[0m\n\u001b[0;32m----> 1\u001b[0;31m \u001b[0mdata_dict\u001b[0m\u001b[0;34m=\u001b[0m\u001b[0mcreate_database\u001b[0m\u001b[0;34m(\u001b[0m\u001b[0;34m\"/Users/baymac/Desktop/Data_todo/Result\"\u001b[0m\u001b[0;34m)\u001b[0m\u001b[0;34m\u001b[0m\u001b[0;34m\u001b[0m\u001b[0m\n\u001b[0m\u001b[1;32m      2\u001b[0m \u001b[0;31m# study_table = make_study_table(data_dict)\u001b[0m\u001b[0;34m\u001b[0m\u001b[0;34m\u001b[0m\u001b[0;34m\u001b[0m\u001b[0m\n\u001b[1;32m      3\u001b[0m \u001b[0;31m# study_table.to_csv(\"HE_study.csv\")\u001b[0m\u001b[0;34m\u001b[0m\u001b[0;34m\u001b[0m\u001b[0;34m\u001b[0m\u001b[0m\n",
      "\u001b[0;32m<ipython-input-2-f1213ce71b84>\u001b[0m in \u001b[0;36mcreate_database\u001b[0;34m(path)\u001b[0m\n\u001b[1;32m     16\u001b[0m             \u001b[0;32mif\u001b[0m \u001b[0;32mnot\u001b[0m \u001b[0mlen\u001b[0m\u001b[0;34m(\u001b[0m\u001b[0mlines\u001b[0m\u001b[0;34m)\u001b[0m\u001b[0;34m==\u001b[0m\u001b[0;36m0\u001b[0m \u001b[0;34m:\u001b[0m\u001b[0;34m\u001b[0m\u001b[0;34m\u001b[0m\u001b[0m\n\u001b[1;32m     17\u001b[0m                 \u001b[0mvalues\u001b[0m \u001b[0;34m=\u001b[0m \u001b[0mlines\u001b[0m\u001b[0;34m.\u001b[0m\u001b[0mreplace\u001b[0m\u001b[0;34m(\u001b[0m\u001b[0;34m\"  \\n\"\u001b[0m\u001b[0;34m,\u001b[0m\u001b[0;34m\"\"\u001b[0m\u001b[0;34m)\u001b[0m\u001b[0;34m.\u001b[0m\u001b[0msplit\u001b[0m\u001b[0;34m(\u001b[0m\u001b[0;34m\"  \\t\"\u001b[0m\u001b[0;34m)\u001b[0m\u001b[0;34m\u001b[0m\u001b[0;34m\u001b[0m\u001b[0m\n\u001b[0;32m---> 18\u001b[0;31m                 \u001b[0mnumb_values\u001b[0m \u001b[0;34m=\u001b[0m \u001b[0;34m[\u001b[0m\u001b[0mfloat\u001b[0m\u001b[0;34m(\u001b[0m\u001b[0mnumb\u001b[0m\u001b[0;34m)\u001b[0m \u001b[0;32mfor\u001b[0m \u001b[0mnumb\u001b[0m \u001b[0;32min\u001b[0m \u001b[0mvalues\u001b[0m\u001b[0;34m]\u001b[0m\u001b[0;34m\u001b[0m\u001b[0;34m\u001b[0m\u001b[0m\n\u001b[0m\u001b[1;32m     19\u001b[0m \u001b[0;31m#                 print(numb_values)\u001b[0m\u001b[0;34m\u001b[0m\u001b[0;34m\u001b[0m\u001b[0;34m\u001b[0m\u001b[0m\n\u001b[1;32m     20\u001b[0m                 \u001b[0msubjects_dict\u001b[0m\u001b[0;34m[\u001b[0m\u001b[0mID\u001b[0m\u001b[0;34m]\u001b[0m\u001b[0;34m=\u001b[0m\u001b[0mnumb_values\u001b[0m\u001b[0;34m\u001b[0m\u001b[0;34m\u001b[0m\u001b[0m\n",
      "\u001b[0;32m<ipython-input-2-f1213ce71b84>\u001b[0m in \u001b[0;36m<listcomp>\u001b[0;34m(.0)\u001b[0m\n\u001b[1;32m     16\u001b[0m             \u001b[0;32mif\u001b[0m \u001b[0;32mnot\u001b[0m \u001b[0mlen\u001b[0m\u001b[0;34m(\u001b[0m\u001b[0mlines\u001b[0m\u001b[0;34m)\u001b[0m\u001b[0;34m==\u001b[0m\u001b[0;36m0\u001b[0m \u001b[0;34m:\u001b[0m\u001b[0;34m\u001b[0m\u001b[0;34m\u001b[0m\u001b[0m\n\u001b[1;32m     17\u001b[0m                 \u001b[0mvalues\u001b[0m \u001b[0;34m=\u001b[0m \u001b[0mlines\u001b[0m\u001b[0;34m.\u001b[0m\u001b[0mreplace\u001b[0m\u001b[0;34m(\u001b[0m\u001b[0;34m\"  \\n\"\u001b[0m\u001b[0;34m,\u001b[0m\u001b[0;34m\"\"\u001b[0m\u001b[0;34m)\u001b[0m\u001b[0;34m.\u001b[0m\u001b[0msplit\u001b[0m\u001b[0;34m(\u001b[0m\u001b[0;34m\"  \\t\"\u001b[0m\u001b[0;34m)\u001b[0m\u001b[0;34m\u001b[0m\u001b[0;34m\u001b[0m\u001b[0m\n\u001b[0;32m---> 18\u001b[0;31m                 \u001b[0mnumb_values\u001b[0m \u001b[0;34m=\u001b[0m \u001b[0;34m[\u001b[0m\u001b[0mfloat\u001b[0m\u001b[0;34m(\u001b[0m\u001b[0mnumb\u001b[0m\u001b[0;34m)\u001b[0m \u001b[0;32mfor\u001b[0m \u001b[0mnumb\u001b[0m \u001b[0;32min\u001b[0m \u001b[0mvalues\u001b[0m\u001b[0;34m]\u001b[0m\u001b[0;34m\u001b[0m\u001b[0;34m\u001b[0m\u001b[0m\n\u001b[0m\u001b[1;32m     19\u001b[0m \u001b[0;31m#                 print(numb_values)\u001b[0m\u001b[0;34m\u001b[0m\u001b[0;34m\u001b[0m\u001b[0;34m\u001b[0m\u001b[0m\n\u001b[1;32m     20\u001b[0m                 \u001b[0msubjects_dict\u001b[0m\u001b[0;34m[\u001b[0m\u001b[0mID\u001b[0m\u001b[0;34m]\u001b[0m\u001b[0;34m=\u001b[0m\u001b[0mnumb_values\u001b[0m\u001b[0;34m\u001b[0m\u001b[0;34m\u001b[0m\u001b[0m\n",
      "\u001b[0;31mValueError\u001b[0m: could not convert string to float: '# Title Segmentation Statistics \\n# \\n# generating_program mri_segstats\\n# cvs_version $Id: mri_segstats.c,v 1.121 2016/05/31 17:27:11 greve Exp $\\n# cmdline mri_segstats --seg /Applications/freesurfer/subjects/WH1625_20171009/mri/aseg.mgz --ctab /Applications/freesurfer/FreeSurferColorLUT.txt --nonempty --exclude 0 --sum /Users/baymac/Desktop/Data_todo/Result/WH1625_20171009.txt --in /Applications/freesurfer/subjects/WH1625_20171009/mri/brain.mgz \\n# sysname  Darwin\\n# hostname baymac-iMac.local\\n# machine  x86_64\\n# user     baymac\\n# anatomy_type volume\\n# \\n# SegVolFile /Applications/freesurfer/subjects/WH1625_20171009/mri/aseg.mgz \\n# SegVolFileTimeStamp  2020/02/13 14:59:21 \\n# ColorTable /Applications/freesurfer/FreeSurferColorLUT.txt \\n# ColorTableTimeStamp 2019/10/30 15:03:05 \\n# InVolFile  /Applications/freesurfer/subjects/WH1625_20171009/mri/brain.mgz \\n# InVolFileTimeStamp  2020/02/13 14:59:20 \\n# InVolFrame 0 \\n# ExcludeSegId 0 \\n# Only reporting non-empty segmentations\\n# VoxelVolume_mm3 1 \\n# TableCol  1 ColHeader Index \\n# TableCol  1 FieldName Index \\n# TableCol  1 Units     NA \\n# TableCol  2 ColHeader SegId \\n# TableCol  2 FieldName Segmentation Id\\n# TableCol  2 Units     NA\\n# TableCol  3 ColHeader NVoxels \\n# TableCol  3 FieldName Number of Voxels\\n# TableCol  3 Units     unitless\\n# TableCol  4 ColHeader Volume_mm3\\n# TableCol  4 FieldName Volume\\n# TableCol  4 Units     mm^3\\n# TableCol  5 ColHeader StructName\\n# TableCol  5 FieldName Structure Name\\n# TableCol  5 Units     NA\\n# TableCol  6 ColHeader Mean \\n# TableCol  6 FieldName Intensity Mean\\n# TableCol  6 Units     unknown\\n# TableCol  7 ColHeader StdDev\\n# TableCol  7 FieldName Itensity StdDev\\n# TableCol  7 Units     unknown\\n# TableCol  8 ColHeader Min\\n# TableCol  8 FieldName Intensity Min\\n# TableCol  8 Units     unknown\\n# TableCol  9 ColHeader Max\\n# TableCol  9 FieldName Intensity Max\\n# TableCol  9 Units     unknown\\n# TableCol 10 ColHeader Range\\n# TableCol 10 FieldName Intensity Range\\n# TableCol 10 Units     unknown\\n# NRows 43 \\n# NTableCols 10 \\n# ColHeaders  Index SegId NVoxels Volume_mm3 StructName Mean StdDev Min Max Range  1   2    249736   249736.0  Left-Cerebral-White-Matter       103.7091     7.8681    19.0000   142.0000   123.0000 \\n  2   3    224238   224238.0  Left-Cerebral-Cortex              74.0879    10.4993    24.0000   123.0000    99.0000 \\n  3   4     13902    13902.0  Left-Lateral-Ventricle            31.0955    12.2885     9.0000    98.0000    89.0000 \\n  4   5       820      820.0  Left-Inf-Lat-Vent                 44.3817    16.7687     7.0000    89.0000    82.0000 \\n  5   7     16494    16494.0  Left-Cerebellum-White-Matter     101.4687    10.1101    35.0000   127.0000    92.0000 \\n  6   8     55233    55233.0  Left-Cerebellum-Cortex            70.4264    13.4794    11.0000   110.0000    99.0000 \\n  7  10      7914     7914.0  Left-Thalamus-Proper             100.4925    12.5776    31.0000   123.0000    92.0000 \\n  8  11      4293     4293.0  Left-Caudate                      83.6557    10.2469    50.0000   114.0000    64.0000 \\n  9  12      5647     5647.0  Left-Putamen                      95.9954    10.0916    69.0000   111.0000    42.0000 \\n 10  13      2270     2270.0  Left-Pallidum                    103.4943     8.3898    63.0000   117.0000    54.0000 \\n 11  14      1355     1355.0  3rd-Ventricle                     39.0221    12.1202    18.0000    92.0000    74.0000 \\n 12  15      1778     1778.0  4th-Ventricle                     41.4095    12.4660    21.0000    90.0000    69.0000 \\n 13  16     19755    19755.0  Brain-Stem                        99.6050    11.9490    21.0000   127.0000   106.0000 \\n 14  17      4390     4390.0  Left-Hippocampus                  76.0948    10.6340    28.0000   110.0000    82.0000 \\n 15  18      1343     1343.0  Left-Amygdala                     78.3596     7.5092    45.0000   101.0000    56.0000 \\n 16  24      1093     1093.0  CSF                               55.8362    14.6401    22.0000   110.0000    88.0000 \\n 17  26       404      404.0  Left-Accumbens-area               79.7426     6.5472    45.0000    96.0000    51.0000 \\n 18  28      4352     4352.0  Left-VentralDC                   101.9828    13.0213    37.0000   124.0000    87.0000 \\n 19  30         2        2.0  Left-vessel                       64.5000     6.3640    60.0000    69.0000     9.0000 \\n 20  31       851      851.0  Left-choroid-plexus               57.6604    11.9682    23.0000    93.0000    70.0000 \\n 21  41    247089   247089.0  Right-Cerebral-White-Matter      103.9059     7.6304    19.0000   133.0000   114.0000 \\n 22  42    224705   224705.0  Right-Cerebral-Cortex             74.6238    10.2544    27.0000   115.0000    88.0000 \\n 23  43     13032    13032.0  Right-Lateral-Ventricle           31.5589    12.5348    11.0000    90.0000    79.0000 \\n 24  44       756      756.0  Right-Inf-Lat-Vent                43.0926    14.8065    16.0000    87.0000    71.0000 \\n 25  46     16338    16338.0  Right-Cerebellum-White-Matter     99.5284     9.9675    29.0000   124.0000    95.0000 \\n 26  47     56032    56032.0  Right-Cerebellum-Cortex           68.2801    14.0687    16.0000   107.0000    91.0000 \\n 27  49      6789     6789.0  Right-Thalamus-Proper            100.0233    11.9878    40.0000   121.0000    81.0000 \\n 28  50      4227     4227.0  Right-Caudate                     80.4093    10.1755    32.0000   108.0000    76.0000 \\n 29  51      5290     5290.0  Right-Putamen                     91.8624     6.9809    54.0000   111.0000    57.0000 \\n 30  52      2461     2461.0  Right-Pallidum                   102.5173     8.3555    67.0000   117.0000    50.0000 \\n 31  53      4275     4275.0  Right-Hippocampus                 77.9319     9.5429    37.0000   111.0000    74.0000 \\n 32  54      1670     1670.0  Right-Amygdala                    79.4311     7.2791    51.0000   103.0000    52.0000 \\n 33  58       412      412.0  Right-Accumbens-area              81.2306     5.9868    51.0000    96.0000    45.0000 \\n 34  60      3927     3927.0  Right-VentralDC                   98.6534    15.2117    38.0000   126.0000    88.0000 \\n 35  62         4        4.0  Right-vessel                      69.0000     3.7417    64.0000    73.0000     9.0000 \\n 36  63       916      916.0  Right-choroid-plexus              58.3668    11.6273    28.0000    87.0000    59.0000 \\n 37  77      2795     2795.0  WM-hypointensities                75.0590    12.6983    45.0000   111.0000    66.0000 \\n 38  85       191      191.0  Optic-Chiasm                      89.2932    19.9264    39.0000   123.0000    84.0000 \\n 39 251      1428     1428.0  CC_Posterior                      96.9384    20.1438    35.0000   137.0000   102.0000 \\n 40 252       816      816.0  CC_Mid_Posterior                  88.1409    23.4770    35.0000   135.0000   100.0000 \\n 41 253      1111     1111.0  CC_Central                        91.6454    23.7857    26.0000   137.0000   111.0000 \\n 42 254      1096     1096.0  CC_Mid_Anterior                   86.0228    22.6853    27.0000   132.0000   105.0000 \\n 43 255      1176     1176.0  CC_Anterior                       88.0808    29.1782    19.0000   142.0000   123.0000 \\n'"
     ]
    }
   ],
   "source": [
    "data_dict=create_database(\"/Users/baymac/Desktop/Data_todo/Result\")\n",
    "# study_table = make_study_table(data_dict)\n",
    "# study_table.to_csv(\"HE_study.csv\")"
   ]
  },
  {
   "cell_type": "code",
   "execution_count": 6,
   "metadata": {},
   "outputs": [],
   "source": [
    "gp =study_table.select(\"globus_pallidus\")\n",
    "putament=study_table.select(\"Putamen\")\n",
    "# study_table.to_csv(\"HE_study.csv\")"
   ]
  },
  {
   "cell_type": "code",
   "execution_count": null,
   "metadata": {},
   "outputs": [],
   "source": []
  }
 ],
 "metadata": {
  "kernelspec": {
   "display_name": "Python 3",
   "language": "python",
   "name": "python3"
  },
  "language_info": {
   "codemirror_mode": {
    "name": "ipython",
    "version": 3
   },
   "file_extension": ".py",
   "mimetype": "text/x-python",
   "name": "python",
   "nbconvert_exporter": "python",
   "pygments_lexer": "ipython3",
   "version": "3.7.2"
  }
 },
 "nbformat": 4,
 "nbformat_minor": 2
}
